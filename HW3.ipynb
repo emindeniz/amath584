{
 "cells": [
  {
   "cell_type": "code",
   "execution_count": 1,
   "metadata": {},
   "outputs": [],
   "source": [
    "import numpy as np\n",
    "import pandas as pd\n",
    "from matplotlib import pyplot as plt"
   ]
  },
  {
   "cell_type": "markdown",
   "metadata": {},
   "source": [
    "### Question 1:"
   ]
  },
  {
   "cell_type": "markdown",
   "metadata": {},
   "source": [
    "#### Algorithm implementing modified QR:"
   ]
  },
  {
   "cell_type": "code",
   "execution_count": 23,
   "metadata": {},
   "outputs": [],
   "source": [
    "def original_gs(A):\n",
    "    m,n = A.shape\n",
    "    Q= np.zeros(shape=(m,n))\n",
    "    R= np.zeros(shape=(n,n))\n",
    "    for j in range(n):\n",
    "        Q[:,j] = A[:,j]\n",
    "        for i in range(j):\n",
    "            R[i,j] = np.dot(np.transpose(Q[:,i]),Q[:,j])\n",
    "            Q[:,j] = Q[:,j]- R[i,j]*Q[:,i]\n",
    "        R[j,j] = np.linalg.norm(Q[:,j])\n",
    "        Q[:,j] = Q[:,j]/R[j,j]\n",
    "\n",
    "    return Q,R"
   ]
  },
  {
   "cell_type": "code",
   "execution_count": 2,
   "metadata": {},
   "outputs": [],
   "source": [
    "def modified_gs(A):\n",
    "    m,n = A.shape\n",
    "    Q= np.zeros(shape=(m,n))\n",
    "    R= np.zeros(shape=(n,n))\n",
    "    for i in range(n):\n",
    "        Q[:,i] = A[:,i]\n",
    "    for i in range(n):\n",
    "        R[i,i]=np.linalg.norm(Q[:,i])\n",
    "        Q[:,i]=Q[:,i]/R[i,i]\n",
    "        for j in range(i+1,n):\n",
    "            R[i,j]=np.dot(np.transpose(Q[:,i]),Q[:,j])\n",
    "            Q[:,j]=Q[:,j]- R[i,j]*Q[:,i]\n",
    "    return Q,R"
   ]
  },
  {
   "cell_type": "code",
   "execution_count": 29,
   "metadata": {},
   "outputs": [
    {
     "name": "stdout",
     "output_type": "stream",
     "text": [
      "Condition number for A: 18.521305341258135\n",
      "Condition number for B: 123803097.31132774\n"
     ]
    }
   ],
   "source": [
    "A = np.array([[1,2],[3,4],[5,6]])\n",
    "print('Condition number for A:',np.linalg.cond(A))\n",
    "B = np.array([[1,2],[3,4],[500000000,60000000]])\n",
    "print('Condition number for B:',np.linalg.cond(B))"
   ]
  },
  {
   "cell_type": "code",
   "execution_count": 37,
   "metadata": {},
   "outputs": [
    {
     "name": "stdout",
     "output_type": "stream",
     "text": [
      "Original GS algorithm: \n",
      "Q:[[ 0.16903085  0.89708523]\n",
      " [ 0.50709255  0.27602622]\n",
      " [ 0.84515425 -0.34503278]],\n",
      "R:[[5.91607978 7.43735744]\n",
      " [0.         0.82807867]]\n",
      "Modified GS algorithm: \n",
      "Q:[[-0.16903085  0.89708523]\n",
      " [-0.50709255  0.27602622]\n",
      " [-0.84515425 -0.34503278]],\n",
      "R:[[-5.91607978 -7.43735744]\n",
      " [ 0.          0.82807867]]\n",
      "Numpy algorithm: \n",
      "Q:[[-0.16903085  0.89708523]\n",
      " [-0.50709255  0.27602622]\n",
      " [-0.84515425 -0.34503278]],\n",
      "R:[[-5.91607978 -7.43735744]\n",
      " [ 0.          0.82807867]]\n",
      "Matlab algorithm: \n",
      "Q: [[-0.16903085  0.89708523  0.40824829]\n",
      " [-0.50709255  0.27602622 -0.81649658]\n",
      " [-0.84515425 -0.34503278  0.40824829]] \n",
      "R: [[-5.91607978 -7.43735744]\n",
      " [ 0.          0.82807867]\n",
      " [ 0.          0.        ]]\n"
     ]
    }
   ],
   "source": [
    "Q, R = original_gs(A)\n",
    "print(f'Original GS algorithm: \\nQ:{Q},\\nR:{R}')\n",
    "Q, R = np.linalg.qr(A)\n",
    "print(f'Modified GS algorithm: \\nQ:{Q},\\nR:{R}')\n",
    "Q, R = np.linalg.qr(A)\n",
    "print(f'Numpy algorithm: \\nQ:{Q},\\nR:{R}')\n",
    "print(f'Matlab algorithm: \\nQ:',np.array([[-0.169030850945703,0.897085227145061,0.408248290463863],\n",
    "[-0.507092552837110,0.276026223736942,-0.816496580927726],\n",
    "[-0.845154254728517,-0.345032779671177,0.408248290463863]]),\n",
    "      '\\nR:',np.array(\n",
    "[[-5.91607978309962,-7.43735744161095],\n",
    "[0,0.828078671210826],\n",
    "[0,0]]))"
   ]
  },
  {
   "cell_type": "code",
   "execution_count": 40,
   "metadata": {},
   "outputs": [
    {
     "name": "stdout",
     "output_type": "stream",
     "text": [
      "Original GS algorithm: \n",
      "Q:[[ 2.00000000e-09  4.58891606e-01]\n",
      " [ 6.00000000e-09  8.88492259e-01]\n",
      " [ 1.00000000e+00 -7.27448701e-09]],\n",
      "R:[[5.00000000e+08 6.00000000e+07]\n",
      " [0.00000000e+00 4.09682804e+00]]\n",
      "Modified GS algorithm: \n",
      "Q:[[-1.99999994e-09 -4.58891604e-01]\n",
      " [-6.00000000e-09 -8.88492260e-01]\n",
      " [-1.00000000e+00  6.24873681e-09]],\n",
      "R:[[-5.00000000e+08 -6.00000000e+07]\n",
      " [ 0.00000000e+00 -4.09682804e+00]]\n",
      "Numpy algorithm: \n",
      "Q:[[-1.99999994e-09 -4.58891604e-01]\n",
      " [-6.00000000e-09 -8.88492260e-01]\n",
      " [-1.00000000e+00  6.24873681e-09]],\n",
      "R:[[-5.00000000e+08 -6.00000000e+07]\n",
      " [ 0.00000000e+00 -4.09682804e+00]]\n",
      "Matlab algorithm: \n",
      "Q: [[-1.99999994e-09 -4.58891607e-01 -8.88492258e-01]\n",
      " [-6.00000000e-09 -8.88492258e-01  4.58891607e-01]\n",
      " [-1.00000000e+00  6.24873672e-09 -9.76365206e-10]] \n",
      "R: [[-5.00000000e+08 -6.00000000e+07]\n",
      " [ 0.00000000e+00 -4.09682804e+00]\n",
      " [ 0.00000000e+00  0.00000000e+00]]\n"
     ]
    }
   ],
   "source": [
    "Q, R = original_gs(B)\n",
    "print(f'Original GS algorithm: \\nQ:{Q},\\nR:{R}')\n",
    "Q, R = np.linalg.qr(B)\n",
    "print(f'Modified GS algorithm: \\nQ:{Q},\\nR:{R}')\n",
    "Q, R = np.linalg.qr(B)\n",
    "print(f'Numpy algorithm: \\nQ:{Q},\\nR:{R}')\n",
    "print(f'Matlab algorithm: \\nQ:',np.array([\n",
    "    [-1.99999994343614e-09,-0.458891606767024,-0.888492258401152],\n",
    "[-6.00000000000000e-09,-0.888492258401152,0.458891606767024],\n",
    "[-1,6.24873672146418e-09,-9.76365206042114e-10]]),\n",
    "      '\\nR:',np.array(\n",
    "[[-500000000,-60000000.0000000],\n",
    "[0,-4.09682804276787],\n",
    "[0,0]]))"
   ]
  },
  {
   "cell_type": "markdown",
   "metadata": {},
   "source": [
    "Observations:\n",
    "I compared four different algorithms against each other on two matricies. Four algorithms were the original Gram Schmidt algorithm, the modified gram schmidt algorithm, the numpy algorithm and the Matlab algorithm given by the instructor. The condition number for matrix A was 18 and the condition number for matrix B was 123803097.31132774. All allgorithms worked well for matrix A, but they slightly differed from each other for matrix B. Numpy algorithm and modified GS agreed with each other but the original GS algorithm and Matlab algorithm given by the instructor produced slightly different results."
   ]
  },
  {
   "cell_type": "markdown",
   "metadata": {},
   "source": [
    "### Question 2"
   ]
  },
  {
   "cell_type": "code",
   "execution_count": 7,
   "metadata": {},
   "outputs": [],
   "source": [
    "xs = np.arange(1.920, 2.080,0.001)\n",
    "y1 = np.zeros_like(xs)\n",
    "y2 = np.zeros_like(xs)\n",
    "for i,x in enumerate(xs):\n",
    "    y1[i] = x**9-18*x**8 +144*x**7 -672*x**6 +2016*x**5 -4032*x**4 +5376*x**3 -4608*x**2 +2304*x-512\n",
    "    y2[i] = (x-2)**9"
   ]
  },
  {
   "cell_type": "code",
   "execution_count": 10,
   "metadata": {},
   "outputs": [
    {
     "data": {
      "text/plain": [
       "<matplotlib.legend.Legend at 0x11d3325f8>"
      ]
     },
     "execution_count": 10,
     "metadata": {},
     "output_type": "execute_result"
    },
    {
     "data": {
      "image/png": "[encoded data removed]",
      "text/plain": [
       "<Figure size 432x288 with 1 Axes>"
      ]
     },
     "metadata": {
      "needs_background": "light"
     },
     "output_type": "display_data"
    }
   ],
   "source": [
    "fig, ax1 = plt.subplots(1)\n",
    "ax1.plot(xs,y1,label='RHS')\n",
    "ax1.plot(xs,y2,label='LHS')\n",
    "ax1.legend()\n"
   ]
  },
  {
   "cell_type": "markdown",
   "metadata": {},
   "source": [
    "### Question 3: \n"
   ]
  },
  {
   "cell_type": "markdown",
   "metadata": {},
   "source": [
    "### a)"
   ]
  },
  {
   "cell_type": "markdown",
   "metadata": {},
   "source": [
    "#### The effect of increasing m:"
   ]
  },
  {
   "cell_type": "code",
   "execution_count": 14,
   "metadata": {},
   "outputs": [
    {
     "data": {
      "text/plain": [
       "[<matplotlib.lines.Line2D at 0x11fa7c710>]"
      ]
     },
     "execution_count": 14,
     "metadata": {},
     "output_type": "execute_result"
    },
    {
     "data": {
      "image/png": "[encoded data removed]",
      "text/plain": [
       "<Figure size 432x288 with 1 Axes>"
      ]
     },
     "metadata": {
      "needs_background": "light"
     },
     "output_type": "display_data"
    }
   ],
   "source": [
    "n=5\n",
    "res=[]\n",
    "for m in range(6,1000):\n",
    "    A = np.random.rand(m,n)\n",
    "    res.append(np.linalg.cond(A))\n",
    "plt.plot(range(6,1000),res)"
   ]
  },
  {
   "cell_type": "markdown",
   "metadata": {},
   "source": [
    "#### The effect of increasing n"
   ]
  },
  {
   "cell_type": "code",
   "execution_count": 7,
   "metadata": {},
   "outputs": [
    {
     "data": {
      "text/plain": [
       "[<matplotlib.lines.Line2D at 0x11fe63d30>]"
      ]
     },
     "execution_count": 7,
     "metadata": {},
     "output_type": "execute_result"
    },
    {
     "data": {
      "image/png": "[encoded data removed]",
      "text/plain": [
       "<Figure size 432x288 with 1 Axes>"
      ]
     },
     "metadata": {
      "needs_background": "light"
     },
     "output_type": "display_data"
    }
   ],
   "source": [
    "m=1000\n",
    "res=[]\n",
    "for n in range(21,1000):\n",
    "    A = np.random.rand(m,n)\n",
    "    res.append(np.linalg.cond(A))\n",
    "plt.plot(range(21,1000),res)"
   ]
  },
  {
   "cell_type": "markdown",
   "metadata": {},
   "source": [
    "#### The distribution of the conditioning number for a matrix with m=100,n=5"
   ]
  },
  {
   "cell_type": "code",
   "execution_count": 28,
   "metadata": {},
   "outputs": [
    {
     "data": {
      "image/png": "[encoded data removed]",
      "text/plain": [
       "<Figure size 432x288 with 1 Axes>"
      ]
     },
     "metadata": {
      "needs_background": "light"
     },
     "output_type": "display_data"
    }
   ],
   "source": [
    "n=5\n",
    "res=[]\n",
    "for _ in range(1000):\n",
    "    A = np.random.rand(100,n)\n",
    "    res.append(np.linalg.cond(A))\n",
    "fig,ax = plt.subplots(1)\n",
    "ax.hist(res,bins=100);"
   ]
  },
  {
   "cell_type": "markdown",
   "metadata": {},
   "source": [
    "#### The distribution of the conditioning number for a matrix with m=10,n=10"
   ]
  },
  {
   "cell_type": "code",
   "execution_count": 29,
   "metadata": {},
   "outputs": [
    {
     "data": {
      "image/png": "[encoded data removed]",
      "text/plain": [
       "<Figure size 432x288 with 1 Axes>"
      ]
     },
     "metadata": {
      "needs_background": "light"
     },
     "output_type": "display_data"
    }
   ],
   "source": [
    "n=10\n",
    "res=[]\n",
    "for _ in range(1000):\n",
    "    A = np.random.rand(10,n)\n",
    "    res.append(np.linalg.cond(A))\n",
    "fig,ax = plt.subplots(1)\n",
    "ax.hist(res,bins=100);"
   ]
  },
  {
   "cell_type": "markdown",
   "metadata": {},
   "source": [
    "#### Observations:\n",
    "As m and n getting close to each other, I observe that the distribution of condition number of a randomly generated matrix starts to acquire a long tail. This means that these matricies are more likely to be ill-conditioned. On the other hand, if we keep n constant and keep increasing m, then the matrix starts to be better conditioned. The same is true if m is constant and if we decrease n. From a practical point of view, this means that in a linear regression setting, if we want to get a robust estimate of our coefficients, then we should always have more samples then features. "
   ]
  },
  {
   "cell_type": "markdown",
   "metadata": {},
   "source": [
    "### b)"
   ]
  },
  {
   "cell_type": "code",
   "execution_count": 77,
   "metadata": {},
   "outputs": [
    {
     "name": "stdout",
     "output_type": "stream",
     "text": [
      "Matrix A:\n",
      " [[0.63246598 0.65382898 0.55524288]\n",
      " [0.6078494  0.427015   0.39537989]\n",
      " [0.59771113 0.16658256 0.03121554]\n",
      " [0.32747091 0.44424297 0.59389482]\n",
      " [0.36429282 0.89204537 0.84191615]]\n",
      "condition number: 15.692235601392044\n"
     ]
    }
   ],
   "source": [
    "m = 5\n",
    "n = 3\n",
    "A = np.random.rand(m,n)\n",
    "print('Matrix A:\\n',A)\n",
    "print('condition number:',np.linalg.cond(A))"
   ]
  },
  {
   "cell_type": "code",
   "execution_count": 78,
   "metadata": {},
   "outputs": [
    {
     "name": "stdout",
     "output_type": "stream",
     "text": [
      "Matrix B:\n",
      " [[0.63246598 0.65382898 0.55524288 0.63246598]\n",
      " [0.6078494  0.427015   0.39537989 0.6078494 ]\n",
      " [0.59771113 0.16658256 0.03121554 0.59771113]\n",
      " [0.32747091 0.44424297 0.59389482 0.32747091]\n",
      " [0.36429282 0.89204537 0.84191615 0.36429282]]\n",
      "condition number: 1.862799739991212e+16\n"
     ]
    }
   ],
   "source": [
    "B = np.zeros(shape=(m,n+1))\n",
    "B[:,:n] = A\n",
    "B[:,n] = A[:,0]\n",
    "print('Matrix B:\\n',B)\n",
    "print('condition number:',np.linalg.cond(B))"
   ]
  },
  {
   "cell_type": "code",
   "execution_count": 87,
   "metadata": {},
   "outputs": [
    {
     "data": {
      "text/plain": [
       "[<matplotlib.lines.Line2D at 0x11fe78390>]"
      ]
     },
     "execution_count": 87,
     "metadata": {},
     "output_type": "execute_result"
    },
    {
     "data": {
      "image/png": "[encoded data removed]",
      "text/plain": [
       "<Figure size 432x288 with 1 Axes>"
      ]
     },
     "metadata": {
      "needs_background": "light"
     },
     "output_type": "display_data"
    }
   ],
   "source": [
    "res = []\n",
    "epsilons = np.logspace(-6,5,100)\n",
    "for epsilon in epsilons:\n",
    "    C = B.copy()\n",
    "    C[:,n][:,np.newaxis] = C[:,n][:,np.newaxis] + epsilon*np.random.rand(m,1)\n",
    "    res.append(np.linalg.cond(C))\n",
    "plt.plot(epsilons,res)"
   ]
  },
  {
   "cell_type": "code",
   "execution_count": 80,
   "metadata": {},
   "outputs": [
    {
     "data": {
      "text/plain": [
       "array([[0.63246598, 0.65382898, 0.55524288, 0.63246598],\n",
       "       [0.6078494 , 0.427015  , 0.39537989, 0.6078494 ],\n",
       "       [0.59771113, 0.16658256, 0.03121554, 0.59771113],\n",
       "       [0.32747091, 0.44424297, 0.59389482, 0.32747091],\n",
       "       [0.36429282, 0.89204537, 0.84191615, 0.36429282]])"
      ]
     },
     "execution_count": 80,
     "metadata": {},
     "output_type": "execute_result"
    }
   ],
   "source": [
    "C = B.copy()\n",
    "C\n"
   ]
  },
  {
   "cell_type": "code",
   "execution_count": 81,
   "metadata": {},
   "outputs": [
    {
     "data": {
      "text/plain": [
       "array([[0.63246598, 0.65382898, 0.55524288, 5.10476224],\n",
       "       [0.6078494 , 0.427015  , 0.39537989, 4.01644003],\n",
       "       [0.59771113, 0.16658256, 0.03121554, 1.02006758],\n",
       "       [0.32747091, 0.44424297, 0.59389482, 9.09941195],\n",
       "       [0.36429282, 0.89204537, 0.84191615, 8.30657532]])"
      ]
     },
     "execution_count": 81,
     "metadata": {},
     "output_type": "execute_result"
    }
   ],
   "source": [
    "C[:,n][:,np.newaxis] = C[:,n][:,np.newaxis] + epsilon*np.random.rand(m,1)\n",
    "C"
   ]
  },
  {
   "cell_type": "code",
   "execution_count": 71,
   "metadata": {},
   "outputs": [
    {
     "data": {
      "text/plain": [
       "array([[0.78254933],\n",
       "       [0.94256423],\n",
       "       [0.18729743],\n",
       "       [0.16516731],\n",
       "       [0.28523764]])"
      ]
     },
     "execution_count": 71,
     "metadata": {},
     "output_type": "execute_result"
    }
   ],
   "source": [
    "B[:,n][:,np.newaxis]"
   ]
  },
  {
   "cell_type": "code",
   "execution_count": 72,
   "metadata": {},
   "outputs": [
    {
     "data": {
      "text/plain": [
       "array([[0.64530124],\n",
       "       [0.49570113],\n",
       "       [0.45000781],\n",
       "       [0.94308229],\n",
       "       [0.37110098]])"
      ]
     },
     "execution_count": 72,
     "metadata": {},
     "output_type": "execute_result"
    }
   ],
   "source": [
    "a = epsilon*np.random.rand(m,1)\n",
    "a"
   ]
  },
  {
   "cell_type": "code",
   "execution_count": 73,
   "metadata": {},
   "outputs": [
    {
     "data": {
      "text/plain": [
       "array([[1.42785056],\n",
       "       [1.43826536],\n",
       "       [0.63730524],\n",
       "       [1.1082496 ],\n",
       "       [0.65633861]])"
      ]
     },
     "execution_count": 73,
     "metadata": {},
     "output_type": "execute_result"
    }
   ],
   "source": [
    "B[:,n][:,np.newaxis] + a"
   ]
  },
  {
   "cell_type": "code",
   "execution_count": 2,
   "metadata": {},
   "outputs": [],
   "source": [
    "def qrfactor(A):\n",
    "    m,n = A.shape\n",
    "    Q = np.eye(m)\n",
    "    for k in range(n):\n",
    "        # Find the HH reflector\n",
    "        print(A)\n",
    "        print(Q)\n",
    "        z = A[k:m,k]\n",
    "        print(z)\n",
    "        v = np.zeros_like(z)\n",
    "        v[0] = -np.sign(z[0])*np.linalg.norm(z) - z[0] \n",
    "        v[1:] = -z[1:]\n",
    "        print(v)\n",
    "        v = v / np.sqrt(np.dot(np.transpose(v),v))\n",
    "        print(v)\n",
    "        \n",
    "        # Apply the HH reflection to each column of A and Q            \n",
    "        for j in range(n):\n",
    "            A[k:m,j] = A[k:m,j] - np.multiply(v,( 2*(np.dot(np.transpose(v),A[k:,j])) ))\n",
    "\n",
    "        for j in range(m):\n",
    "            Q[k:m,j] = Q[k:m,j] - np.multiply(v,( 2*(np.dot(np.transpose(v),Q[k:m,j]) )))\n",
    "\n",
    "    return Q.transpose(),np.triu(A)"
   ]
  },
  {
   "cell_type": "code",
   "execution_count": 5,
   "metadata": {},
   "outputs": [
    {
     "name": "stdout",
     "output_type": "stream",
     "text": [
      "[[1 2]\n",
      " [3 4]\n",
      " [5 6]]\n",
      "[[1. 0. 0.]\n",
      " [0. 1. 0.]\n",
      " [0. 0. 1.]]\n",
      "[1 3 5]\n",
      "[-6 -3 -5]\n",
      "[-0.71713717 -0.35856858 -0.5976143 ]\n",
      "[[-5 -7]\n",
      " [ 0  0]\n",
      " [ 0 -1]]\n",
      "[[-0.02857143 -0.51428571 -0.85714286]\n",
      " [-0.51428571  0.74285714 -0.42857143]\n",
      " [-0.85714286 -0.42857143  0.28571429]]\n",
      "[ 0 -1]\n",
      "[0 1]\n",
      "[0. 1.]\n"
     ]
    },
    {
     "data": {
      "text/plain": [
       "(array([[-0.02857143, -0.51428571,  0.85714286],\n",
       "        [-0.51428571,  0.74285714,  0.42857143],\n",
       "        [-0.85714286, -0.42857143, -0.28571429]]),\n",
       " array([[-5, -7],\n",
       "        [ 0,  0],\n",
       "        [ 0,  0]]))"
      ]
     },
     "execution_count": 5,
     "metadata": {},
     "output_type": "execute_result"
    }
   ],
   "source": [
    "qrfactor(np.array([[1,2],[3,4],[5,6]]))"
   ]
  },
  {
   "cell_type": "code",
   "execution_count": 10,
   "metadata": {},
   "outputs": [
    {
     "name": "stdout",
     "output_type": "stream",
     "text": [
      "(3, 2)\n"
     ]
    },
    {
     "data": {
      "text/plain": [
       "(array([[-0.16903085,  0.89708523],\n",
       "        [-0.50709255,  0.27602622],\n",
       "        [-0.84515425, -0.34503278]]),\n",
       " array([[-5.91607978, -7.43735744],\n",
       "        [ 0.        ,  0.82807867]]))"
      ]
     },
     "execution_count": 10,
     "metadata": {},
     "output_type": "execute_result"
    }
   ],
   "source": [
    "A = np.array([[1,2],[3,4],[5,6]])\n",
    "print(A.shape)\n",
    "np.linalg.qr(A)"
   ]
  },
  {
   "cell_type": "code",
   "execution_count": null,
   "metadata": {},
   "outputs": [],
   "source": []
  }
 ],
 "metadata": {
  "kernelspec": {
   "display_name": "Python 3",
   "language": "python",
   "name": "python3"
  },
  "language_info": {
   "codemirror_mode": {
    "name": "ipython",
    "version": 3
   },
   "file_extension": ".py",
   "mimetype": "text/x-python",
   "name": "python",
   "nbconvert_exporter": "python",
   "pygments_lexer": "ipython3",
   "version": "3.7.3"
  }
 },
 "nbformat": 4,
 "nbformat_minor": 4
}
