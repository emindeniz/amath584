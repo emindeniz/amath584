{
 "cells": [
  {
   "cell_type": "code",
   "execution_count": 1,
   "metadata": {},
   "outputs": [],
   "source": [
    "import numpy as np\n",
    "import pandas as pd\n",
    "from matplotlib import pyplot as plt"
   ]
  },
  {
   "cell_type": "markdown",
   "metadata": {},
   "source": [
    "### Question 1:"
   ]
  },
  {
   "cell_type": "markdown",
   "metadata": {},
   "source": [
    "#### Algorithm implementing modified QR:"
   ]
  },
  {
   "cell_type": "code",
   "execution_count": 198,
   "metadata": {},
   "outputs": [],
   "source": [
    "def original_gs(A):\n",
    "    m,n = A.shape\n",
    "    Q= np.zeros(shape=(m,n))\n",
    "    R= np.zeros(shape=(n,n))\n",
    "    for j in range(n):\n",
    "        Q[:,j] = A[:,j]\n",
    "        for i in range(j):\n",
    "            R[i,j] = np.dot(np.transpose(Q[:,i]),Q[:,j])\n",
    "            Q[:,j] = Q[:,j]- R[i,j]*Q[:,i]\n",
    "        R[j,j] = np.linalg.norm(Q[:,j])\n",
    "        Q[:,j] = Q[:,j]/R[j,j]\n",
    "\n",
    "    return Q,R"
   ]
  },
  {
   "cell_type": "code",
   "execution_count": 199,
   "metadata": {},
   "outputs": [],
   "source": [
    "def modified_gs(A):\n",
    "    m,n = A.shape\n",
    "    Q= np.zeros(shape=(m,n))\n",
    "    R= np.zeros(shape=(n,n))\n",
    "    for i in range(n):\n",
    "        Q[:,i] = A[:,i]\n",
    "    for i in range(n):\n",
    "        R[i,i]=np.linalg.norm(Q[:,i])\n",
    "        Q[:,i]=Q[:,i]/R[i,i]\n",
    "        for j in range(i+1,n):\n",
    "            R[i,j]=np.dot(np.transpose(Q[:,i]),Q[:,j])\n",
    "            Q[:,j]=Q[:,j]- R[i,j]*Q[:,i]\n",
    "    return Q,R"
   ]
  },
  {
   "cell_type": "code",
   "execution_count": 222,
   "metadata": {},
   "outputs": [
    {
     "name": "stdout",
     "output_type": "stream",
     "text": [
      "Condition number for A: 18.521305341258135\n",
      "Condition number for B: 123803097.31132774\n"
     ]
    }
   ],
   "source": [
    "A = np.array([[1,2],[3,4],[5,6]])\n",
    "print('Condition number for A:',np.linalg.cond(A))\n",
    "B = np.array([[1,2],[3,4],[500000000,60000000]])\n",
    "print('Condition number for B:',np.linalg.cond(B))"
   ]
  },
  {
   "cell_type": "code",
   "execution_count": 223,
   "metadata": {},
   "outputs": [
    {
     "name": "stdout",
     "output_type": "stream",
     "text": [
      "Original GS algorithm: \n",
      "Q:[[ 0.16903085  0.89708523]\n",
      " [ 0.50709255  0.27602622]\n",
      " [ 0.84515425 -0.34503278]],\n",
      "R:[[5.91607978 7.43735744]\n",
      " [0.         0.82807867]]\n",
      "Modified GS algorithm: \n",
      "Q:[[ 0.16903085  0.89708523]\n",
      " [ 0.50709255  0.27602622]\n",
      " [ 0.84515425 -0.34503278]],\n",
      "R:[[5.91607978 7.43735744]\n",
      " [0.         0.82807867]]\n",
      "Numpy algorithm: \n",
      "Q:[[-0.16903085  0.89708523]\n",
      " [-0.50709255  0.27602622]\n",
      " [-0.84515425 -0.34503278]],\n",
      "R:[[-5.91607978 -7.43735744]\n",
      " [ 0.          0.82807867]]\n",
      "Matlab algorithm: \n",
      "Q: [[-0.16903085  0.89708523  0.40824829]\n",
      " [-0.50709255  0.27602622 -0.81649658]\n",
      " [-0.84515425 -0.34503278  0.40824829]] \n",
      "R: [[-5.91607978 -7.43735744]\n",
      " [ 0.          0.82807867]\n",
      " [ 0.          0.        ]]\n"
     ]
    }
   ],
   "source": [
    "Q, R = original_gs(A)\n",
    "print(f'Original GS algorithm: \\nQ:{Q},\\nR:{R}')\n",
    "Q, R = modified_gs(A)\n",
    "print(f'Modified GS algorithm: \\nQ:{Q},\\nR:{R}')\n",
    "Q, R = np.linalg.qr(A)\n",
    "print(f'Numpy algorithm: \\nQ:{Q},\\nR:{R}')\n",
    "print(f'Matlab algorithm: \\nQ:',np.array([[-0.169030850945703,0.897085227145061,0.408248290463863],\n",
    "[-0.507092552837110,0.276026223736942,-0.816496580927726],\n",
    "[-0.845154254728517,-0.345032779671177,0.408248290463863]]),\n",
    "      '\\nR:',np.array(\n",
    "[[-5.91607978309962,-7.43735744161095],\n",
    "[0,0.828078671210826],\n",
    "[0,0]]))"
   ]
  },
  {
   "cell_type": "code",
   "execution_count": 220,
   "metadata": {},
   "outputs": [
    {
     "name": "stdout",
     "output_type": "stream",
     "text": [
      "Original GS algorithm: \n",
      "Q:[[ 2.00000000e-09  4.58891606e-01]\n",
      " [ 6.00000000e-09  8.88492259e-01]\n",
      " [ 1.00000000e+00 -7.27448701e-09]],\n",
      "R:[[5.00000000e+08 6.00000000e+07]\n",
      " [0.00000000e+00 4.09682804e+00]]\n",
      "Modified GS algorithm: \n",
      "Q:[[ 2.00000000e-09  4.58891606e-01]\n",
      " [ 6.00000000e-09  8.88492259e-01]\n",
      " [ 1.00000000e+00 -7.27448701e-09]],\n",
      "R:[[5.00000000e+08 6.00000000e+07]\n",
      " [0.00000000e+00 4.09682804e+00]]\n",
      "Numpy algorithm: \n",
      "Q:[[-1.99999994e-09 -4.58891604e-01]\n",
      " [-6.00000000e-09 -8.88492260e-01]\n",
      " [-1.00000000e+00  6.24873681e-09]],\n",
      "R:[[-5.00000000e+08 -6.00000000e+07]\n",
      " [ 0.00000000e+00 -4.09682804e+00]]\n",
      "Matlab algorithm: \n",
      "Q: [[-1.99999994e-09 -4.58891607e-01 -8.88492258e-01]\n",
      " [-6.00000000e-09 -8.88492258e-01  4.58891607e-01]\n",
      " [-1.00000000e+00  6.24873672e-09 -9.76365206e-10]] \n",
      "R: [[-5.00000000e+08 -6.00000000e+07]\n",
      " [ 0.00000000e+00 -4.09682804e+00]\n",
      " [ 0.00000000e+00  0.00000000e+00]]\n"
     ]
    }
   ],
   "source": [
    "Q, R = original_gs(B)\n",
    "print(f'Original GS algorithm: \\nQ:{Q},\\nR:{R}')\n",
    "Q, R = modified_gs(B)\n",
    "print(f'Modified GS algorithm: \\nQ:{Q},\\nR:{R}')\n",
    "Q, R = np.linalg.qr(B)\n",
    "print(f'Numpy algorithm: \\nQ:{Q},\\nR:{R}')\n",
    "print(f'Matlab algorithm: \\nQ:',np.array([\n",
    "    [-1.99999994343614e-09,-0.458891606767024,-0.888492258401152],\n",
    "[-6.00000000000000e-09,-0.888492258401152,0.458891606767024],\n",
    "[-1,6.24873672146418e-09,-9.76365206042114e-10]]),\n",
    "      '\\nR:',np.array(\n",
    "[[-500000000,-60000000.0000000],\n",
    "[0,-4.09682804276787],\n",
    "[0,0]]))"
   ]
  },
  {
   "cell_type": "markdown",
   "metadata": {},
   "source": [
    "#### Observations:\n",
    "I compared four different algorithms against each other on two matricies. Four algorithms were the original Gram Schmidt algorithm, the modified gram schmidt algorithm, the numpy algorithm and the Matlab algorithm given by the instructor. The condition number for matrix A was 18 and the condition number for matrix B was 123803097.31132774. All allgorithms worked well for matrix A, but they slightly differed from each other for matrix B. I think this makes sense given that as the condition number gets larger, the result will be more sensitive to slight variations in algorithms. Numpy algorithm and modified GS agreed with each other but the original GS algorithm and Matlab algorithm given by the instructor produced slightly different results."
   ]
  },
  {
   "cell_type": "markdown",
   "metadata": {},
   "source": [
    "### Question 2"
   ]
  },
  {
   "cell_type": "code",
   "execution_count": 7,
   "metadata": {},
   "outputs": [],
   "source": [
    "xs = np.arange(1.920, 2.080,0.001)\n",
    "y1 = np.zeros_like(xs)\n",
    "y2 = np.zeros_like(xs)\n",
    "for i,x in enumerate(xs):\n",
    "    y1[i] = x**9-18*x**8 +144*x**7 -672*x**6 +2016*x**5 -4032*x**4 +5376*x**3 -4608*x**2 +2304*x-512\n",
    "    y2[i] = (x-2)**9"
   ]
  },
  {
   "cell_type": "code",
   "execution_count": 10,
   "metadata": {},
   "outputs": [
    {
     "data": {
      "text/plain": [
       "<matplotlib.legend.Legend at 0x11d3325f8>"
      ]
     },
     "execution_count": 10,
     "metadata": {},
     "output_type": "execute_result"
    },
    {
     "data": {
      "image/png": "[encoded data removed]",
      "text/plain": [
       "<Figure size 432x288 with 1 Axes>"
      ]
     },
     "metadata": {
      "needs_background": "light"
     },
     "output_type": "display_data"
    }
   ],
   "source": [
    "fig, ax1 = plt.subplots(1)\n",
    "ax1.plot(xs,y1,label='RHS')\n",
    "ax1.plot(xs,y2,label='LHS')\n",
    "ax1.legend()\n"
   ]
  },
  {
   "cell_type": "markdown",
   "metadata": {},
   "source": [
    "#### Observations: \n",
    "We can see that using the right hand side of the equation results in accumulation of rounding off errors that are multiplied by big coefficients."
   ]
  },
  {
   "cell_type": "markdown",
   "metadata": {},
   "source": [
    "### Question 3: \n"
   ]
  },
  {
   "cell_type": "markdown",
   "metadata": {},
   "source": [
    "### a)"
   ]
  },
  {
   "cell_type": "markdown",
   "metadata": {},
   "source": [
    "#### The effect of increasing m:"
   ]
  },
  {
   "cell_type": "code",
   "execution_count": 14,
   "metadata": {},
   "outputs": [
    {
     "data": {
      "text/plain": [
       "[<matplotlib.lines.Line2D at 0x11fa7c710>]"
      ]
     },
     "execution_count": 14,
     "metadata": {},
     "output_type": "execute_result"
    },
    {
     "data": {
      "image/png": "[encoded data removed]",
      "text/plain": [
       "<Figure size 432x288 with 1 Axes>"
      ]
     },
     "metadata": {
      "needs_background": "light"
     },
     "output_type": "display_data"
    }
   ],
   "source": [
    "n=5\n",
    "res=[]\n",
    "for m in range(6,1000):\n",
    "    A = np.random.rand(m,n)\n",
    "    res.append(np.linalg.cond(A))\n",
    "plt.plot(range(6,1000),res)"
   ]
  },
  {
   "cell_type": "markdown",
   "metadata": {},
   "source": [
    "#### The effect of increasing n"
   ]
  },
  {
   "cell_type": "code",
   "execution_count": 7,
   "metadata": {},
   "outputs": [
    {
     "data": {
      "text/plain": [
       "[<matplotlib.lines.Line2D at 0x11fe63d30>]"
      ]
     },
     "execution_count": 7,
     "metadata": {},
     "output_type": "execute_result"
    },
    {
     "data": {
      "image/png": "[encoded data removed]",
      "text/plain": [
       "<Figure size 432x288 with 1 Axes>"
      ]
     },
     "metadata": {
      "needs_background": "light"
     },
     "output_type": "display_data"
    }
   ],
   "source": [
    "m=1000\n",
    "res=[]\n",
    "for n in range(21,1000):\n",
    "    A = np.random.rand(m,n)\n",
    "    res.append(np.linalg.cond(A))\n",
    "plt.plot(range(21,1000),res)"
   ]
  },
  {
   "cell_type": "markdown",
   "metadata": {},
   "source": [
    "#### The distribution of the conditioning number for a matrix with m=100,n=5"
   ]
  },
  {
   "cell_type": "code",
   "execution_count": 28,
   "metadata": {},
   "outputs": [
    {
     "data": {
      "image/png": "[encoded data removed]",
      "text/plain": [
       "<Figure size 432x288 with 1 Axes>"
      ]
     },
     "metadata": {
      "needs_background": "light"
     },
     "output_type": "display_data"
    }
   ],
   "source": [
    "n=5\n",
    "res=[]\n",
    "for _ in range(1000):\n",
    "    A = np.random.rand(100,n)\n",
    "    res.append(np.linalg.cond(A))\n",
    "fig,ax = plt.subplots(1)\n",
    "ax.hist(res,bins=100);"
   ]
  },
  {
   "cell_type": "markdown",
   "metadata": {},
   "source": [
    "#### The distribution of the conditioning number for a matrix with m=10,n=10"
   ]
  },
  {
   "cell_type": "code",
   "execution_count": 29,
   "metadata": {},
   "outputs": [
    {
     "data": {
      "image/png": "[encoded data removed]",
      "text/plain": [
       "<Figure size 432x288 with 1 Axes>"
      ]
     },
     "metadata": {
      "needs_background": "light"
     },
     "output_type": "display_data"
    }
   ],
   "source": [
    "n=10\n",
    "res=[]\n",
    "for _ in range(1000):\n",
    "    A = np.random.rand(10,n)\n",
    "    res.append(np.linalg.cond(A))\n",
    "fig,ax = plt.subplots(1)\n",
    "ax.hist(res,bins=100);"
   ]
  },
  {
   "cell_type": "markdown",
   "metadata": {},
   "source": [
    "#### Observations:\n",
    "As m and n getting close to each other, I observe that the distribution of condition number of a randomly generated matrix starts to acquire a long tail. This means that these matricies are more likely to be ill-conditioned. On the other hand, if we keep n constant and keep increasing m, then the matrix starts to be better conditioned. The same is true if m is constant and if we decrease n. From a practical point of view, this means that in a linear regression setting, if we want to get a robust estimate of our coefficients, then we should always have more samples then features. "
   ]
  },
  {
   "cell_type": "markdown",
   "metadata": {},
   "source": [
    "### b)"
   ]
  },
  {
   "cell_type": "code",
   "execution_count": 2,
   "metadata": {},
   "outputs": [
    {
     "name": "stdout",
     "output_type": "stream",
     "text": [
      "Matrix A:\n",
      " [[0.06526197 0.44154082 0.18980911 0.39614237 0.71986827]\n",
      " [0.09534458 0.77153375 0.60985174 0.2026286  0.76209889]\n",
      " [0.19132366 0.14207627 0.86978431 0.07541444 0.13091607]\n",
      " [0.60094117 0.35400514 0.24985384 0.14798464 0.62056946]\n",
      " [0.9462098  0.21152121 0.33027216 0.08581402 0.70770801]]\n",
      "condition number: 49.42912740288685\n",
      "determinant number: -0.01291070107404827\n"
     ]
    }
   ],
   "source": [
    "m = 5\n",
    "n = 5\n",
    "A = np.random.rand(m,n)\n",
    "print('Matrix A:\\n',A)\n",
    "print('condition number:',np.linalg.cond(A))\n",
    "print('determinant number:',np.linalg.det(A))"
   ]
  },
  {
   "cell_type": "code",
   "execution_count": 7,
   "metadata": {},
   "outputs": [
    {
     "name": "stdout",
     "output_type": "stream",
     "text": [
      "Matrix B:\n",
      " [[0.06526197 0.44154082 0.18980911 0.39614237 0.06526197]\n",
      " [0.09534458 0.77153375 0.60985174 0.2026286  0.09534458]\n",
      " [0.19132366 0.14207627 0.86978431 0.07541444 0.19132366]\n",
      " [0.60094117 0.35400514 0.24985384 0.14798464 0.60094117]\n",
      " [0.9462098  0.21152121 0.33027216 0.08581402 0.9462098 ]]\n",
      "condition number: 6.368191039715822e+16\n",
      "determinant number: -1.64370783179615e-17\n"
     ]
    }
   ],
   "source": [
    "B = A.copy()\n",
    "B[:,n-1]=B[:,0]\n",
    "print('Matrix B:\\n',B)\n",
    "print('condition number:',np.linalg.cond(B))\n",
    "print('determinant number:',np.linalg.det(B))"
   ]
  },
  {
   "cell_type": "markdown",
   "metadata": {},
   "source": [
    "#### Observations:\n",
    "By adding a duplicate column to the matrix, we create a singular value that is zero, therefore the condition nubmer goes to infinity, and the determinant get very close to 0."
   ]
  },
  {
   "cell_type": "markdown",
   "metadata": {},
   "source": [
    "### c)"
   ]
  },
  {
   "cell_type": "code",
   "execution_count": 16,
   "metadata": {},
   "outputs": [
    {
     "data": {
      "image/png": "[encoded data removed]",
      "text/plain": [
       "<Figure size 432x288 with 1 Axes>"
      ]
     },
     "metadata": {
      "needs_background": "light"
     },
     "output_type": "display_data"
    }
   ],
   "source": [
    "res = []\n",
    "res_det = []\n",
    "epsilons = np.logspace(-17,17,100)\n",
    "for epsilon in epsilons:\n",
    "    C = B.copy()\n",
    "    C[:,n-1][:,np.newaxis] = C[:,n-1][:,np.newaxis] + epsilon*np.random.rand(m,1)\n",
    "    res.append(np.linalg.cond(C))\n",
    "    res_det.append(np.abs(np.linalg.det(C)))\n",
    "plt.plot(epsilons,res)\n",
    "plt.yscale('log')\n",
    "plt.xscale('log')\n",
    "plt.xlabel('epsilon')\n",
    "plt.ylabel('condition number');"
   ]
  },
  {
   "cell_type": "code",
   "execution_count": 17,
   "metadata": {},
   "outputs": [
    {
     "data": {
      "image/png": "[encoded data removed]",
      "text/plain": [
       "<Figure size 432x288 with 1 Axes>"
      ]
     },
     "metadata": {
      "needs_background": "light"
     },
     "output_type": "display_data"
    }
   ],
   "source": [
    "plt.plot(epsilons,res_det)\n",
    "plt.yscale('log')\n",
    "plt.xscale('log')\n",
    "plt.xlabel('epsilon')\n",
    "plt.ylabel('determinant');"
   ]
  },
  {
   "cell_type": "markdown",
   "metadata": {},
   "source": [
    "#### Observations:\n",
    "The condition number is initially very large. It starts going down as we add a small amount of noise to the last column. As the amount of noise we add increases and starts to have the same order of magnitude as the original column, then essentially the extra column we add becomes independent of the original column and we see the lowest condition number when the epsilon is 1. From this point on, as the amount of noise increases, condition number starts to increase because the largest singular value starts to increase. Absolute value of the determinant also gets larger as we add noise."
   ]
  },
  {
   "cell_type": "markdown",
   "metadata": {},
   "source": [
    "####  Extra: An effort to import matlab algorithm to Python"
   ]
  },
  {
   "cell_type": "code",
   "execution_count": 195,
   "metadata": {},
   "outputs": [],
   "source": [
    "def matlab_qrfactor(A):\n",
    "    m,n = A.shape\n",
    "    Q = np.eye(m)\n",
    "    for k in range(n):\n",
    "        # Find the HH reflector\n",
    "        v = A[k:m,k].copy()\n",
    "        v[0] = -np.sign(v[0])*np.linalg.norm(v) - v[0] \n",
    "        v[1:] = -v[1:]\n",
    "        v = v / np.sqrt(np.dot(v,v))\n",
    "        # Apply the HH reflection to each column of A and Q     \n",
    "        A[k:m,k:] = A[k:m,k:] - 2*np.dot(v.reshape(v.shape[0],-1),np.dot(v.reshape(1,v.shape[0]),A[k:m,k:]))\n",
    "        Q[k:m,:] = Q[k:m,:] - 2*np.dot(v.reshape(v.shape[0],-1),np.dot(v.reshape(1,v.shape[0]),Q[k:m,:]))\n",
    "\n",
    "    return Q.transpose(),np.triu(A)"
   ]
  },
  {
   "cell_type": "code",
   "execution_count": 228,
   "metadata": {},
   "outputs": [
    {
     "data": {
      "text/plain": [
       "(array([[-0.16903084,  0.89708529,  0.40824777],\n",
       "        [-0.50709257,  0.2760259 , -0.81649666],\n",
       "        [-0.84515425, -0.34503259,  0.40824846]]),\n",
       " array([[-5.91608  , -7.437358 ],\n",
       "        [ 0.       ,  0.8280785],\n",
       "        [ 0.       ,  0.       ]], dtype=float32))"
      ]
     },
     "execution_count": 228,
     "metadata": {},
     "output_type": "execute_result"
    }
   ],
   "source": [
    "M = np.array([[1,2],[3,4],[5,6]],dtype=np.float32)\n",
    "qrfactor(np.array(M))"
   ]
  },
  {
   "cell_type": "code",
   "execution_count": 229,
   "metadata": {},
   "outputs": [
    {
     "data": {
      "text/plain": [
       "(array([[-0.16903085,  0.89708525,  0.4082483 ],\n",
       "        [-0.50709254,  0.27602622, -0.8164966 ],\n",
       "        [-0.8451542 , -0.34503278,  0.4082483 ]], dtype=float32),\n",
       " array([[-5.91608  , -7.4373574],\n",
       "        [ 0.       ,  0.8280787],\n",
       "        [ 0.       ,  0.       ]], dtype=float32))"
      ]
     },
     "execution_count": 229,
     "metadata": {},
     "output_type": "execute_result"
    }
   ],
   "source": [
    "np.linalg.qr(M,mode='complete')"
   ]
  }
 ],
 "metadata": {
  "kernelspec": {
   "display_name": "Python 3",
   "language": "python",
   "name": "python3"
  },
  "language_info": {
   "codemirror_mode": {
    "name": "ipython",
    "version": 3
   },
   "file_extension": ".py",
   "mimetype": "text/x-python",
   "name": "python",
   "nbconvert_exporter": "python",
   "pygments_lexer": "ipython3",
   "version": "3.7.3"
  }
 },
 "nbformat": 4,
 "nbformat_minor": 4
}
