{
 "cells": [
  {
   "cell_type": "code",
   "execution_count": 1,
   "metadata": {},
   "outputs": [],
   "source": [
    "import numpy as np\n",
    "from scipy.linalg import lu\n",
    "np.set_printoptions(precision=3)\n",
    "np.set_printoptions(suppress=True)"
   ]
  },
  {
   "cell_type": "code",
   "execution_count": 2,
   "metadata": {},
   "outputs": [
    {
     "data": {
      "text/plain": [
       "array([[-1.468, -0.095,  1.459, -0.287,  2.569],\n",
       "       [ 0.821,  0.262,  0.548, -0.253,  2.245],\n",
       "       [ 1.77 ,  1.426, -0.94 , -0.084, -0.852],\n",
       "       [-0.141,  0.79 ,  1.539, -0.065, -0.743],\n",
       "       [ 0.171, -0.743, -1.045,  0.308,  0.378]])"
      ]
     },
     "execution_count": 2,
     "metadata": {},
     "output_type": "execute_result"
    }
   ],
   "source": [
    "A = np.random.randn(5,5)\n",
    "A"
   ]
  },
  {
   "cell_type": "markdown",
   "metadata": {},
   "source": [
    "#### Function for LU decomposition using partial pivoting"
   ]
  },
  {
   "cell_type": "code",
   "execution_count": 3,
   "metadata": {},
   "outputs": [],
   "source": [
    "def ozkan_lu(M):\n",
    "    m = M.shape[0]\n",
    "    U=M.copy()\n",
    "    L=np.eye(m)\n",
    "    P= np.eye(m)\n",
    "    for k in range(m-1):\n",
    "        i = np.argmax(np.abs(U[k:,k]))+k # Find the max in the column\n",
    "\n",
    "        temp  = U[i,k:].copy() # pivot U\n",
    "        U[i,k:]= U[k,k:]\n",
    "        U[k,k:] = temp\n",
    "\n",
    "        P[[k,i]]=P[[i,k]] # pivot P\n",
    "        \n",
    "        temp  = L[k,:k].copy() # pivot L\n",
    "        L[k,:k]= L[i,:k]\n",
    "        L[i,:k] = temp \n",
    "\n",
    "        for j in range(k+1,m):\n",
    "            L[j,k] = U[j,k]/U[k,k]\n",
    "            U[j,k:m]=U[j,k:m]-L[j,k]*U[k,k:m]\n",
    "    return P,L,U"
   ]
  },
  {
   "cell_type": "code",
   "execution_count": 4,
   "metadata": {},
   "outputs": [
    {
     "name": "stdout",
     "output_type": "stream",
     "text": [
      "[[ 1.     0.     0.     0.     0.   ]\n",
      " [-0.829  1.     0.     0.     0.   ]\n",
      " [ 0.464 -0.368  1.     0.     0.   ]\n",
      " [-0.08   0.831  0.729  1.     0.   ]\n",
      " [ 0.096 -0.81  -0.328 -0.179  1.   ]]\n",
      "[[ 1.77   1.426 -0.94  -0.084 -0.852]\n",
      " [ 0.     1.088  0.679 -0.356  1.862]\n",
      " [ 0.     0.     1.234 -0.345  3.325]\n",
      " [ 0.     0.     0.     0.476 -4.783]\n",
      " [ 0.     0.     0.     0.     2.204]]\n"
     ]
    }
   ],
   "source": [
    "P,L,U = ozkan_lu(A)\n",
    "print(L)\n",
    "print(U)"
   ]
  },
  {
   "cell_type": "markdown",
   "metadata": {},
   "source": [
    "#### Check to make sure that PA=LU"
   ]
  },
  {
   "cell_type": "code",
   "execution_count": 5,
   "metadata": {},
   "outputs": [
    {
     "name": "stdout",
     "output_type": "stream",
     "text": [
      "[[-1.468 -0.095  1.459 -0.287  2.569]\n",
      " [ 0.821  0.262  0.548 -0.253  2.245]\n",
      " [ 1.77   1.426 -0.94  -0.084 -0.852]\n",
      " [-0.141  0.79   1.539 -0.065 -0.743]\n",
      " [ 0.171 -0.743 -1.045  0.308  0.378]]\n",
      "[[ 1.77   1.426 -0.94  -0.084 -0.852]\n",
      " [-1.468 -0.095  1.459 -0.287  2.569]\n",
      " [ 0.821  0.262  0.548 -0.253  2.245]\n",
      " [-0.141  0.79   1.539 -0.065 -0.743]\n",
      " [ 0.171 -0.743 -1.045  0.308  0.378]]\n",
      "[[ 1.77   1.426 -0.94  -0.084 -0.852]\n",
      " [-1.468 -0.095  1.459 -0.287  2.569]\n",
      " [ 0.821  0.262  0.548 -0.253  2.245]\n",
      " [-0.141  0.79   1.539 -0.065 -0.743]\n",
      " [ 0.171 -0.743 -1.045  0.308  0.378]]\n"
     ]
    }
   ],
   "source": [
    "print(A)\n",
    "print(np.dot(P,A))\n",
    "print(np.dot(L,U))"
   ]
  }
 ],
 "metadata": {
  "kernelspec": {
   "display_name": "Python 3",
   "language": "python",
   "name": "python3"
  },
  "language_info": {
   "codemirror_mode": {
    "name": "ipython",
    "version": 3
   },
   "file_extension": ".py",
   "mimetype": "text/x-python",
   "name": "python",
   "nbconvert_exporter": "python",
   "pygments_lexer": "ipython3",
   "version": "3.7.3"
  }
 },
 "nbformat": 4,
 "nbformat_minor": 4
}
