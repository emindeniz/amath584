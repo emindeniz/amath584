{
 "cells": [
  {
   "cell_type": "code",
   "execution_count": 1,
   "metadata": {},
   "outputs": [],
   "source": [
    "import numpy as np\n",
    "import matplotlib.pyplot as plt\n",
    "import pandas as pd\n",
    "from sklearn.preprocessing import normalize,scale,MinMaxScaler\n",
    "import os\n",
    "from scipy.linalg import svd\n",
    "from PIL import Image\n",
    "# from skimage.transform import resize"
   ]
  },
  {
   "cell_type": "markdown",
   "metadata": {},
   "source": [
    "## Question 1"
   ]
  },
  {
   "cell_type": "markdown",
   "metadata": {},
   "source": [
    "## a)"
   ]
  },
  {
   "cell_type": "code",
   "execution_count": 2,
   "metadata": {},
   "outputs": [
    {
     "data": {
      "text/plain": [
       "array([[0.73116646, 0.62907116, 0.16452016, 0.5765387 , 0.70192508,\n",
       "        0.27433536, 0.22838154, 0.22423693, 0.22831891, 0.70532285],\n",
       "       [0.62907116, 0.23073898, 0.39902204, 0.3842151 , 0.72223179,\n",
       "        0.67785057, 0.51674664, 0.45401715, 0.47638217, 0.60546062],\n",
       "       [0.16452016, 0.39902204, 0.83658948, 0.26836288, 0.50630421,\n",
       "        0.16390962, 0.57975015, 0.07799619, 0.72678209, 0.87084353],\n",
       "       [0.5765387 , 0.3842151 , 0.26836288, 0.48270386, 0.02779108,\n",
       "        0.81753665, 0.26457565, 0.90481267, 0.00858426, 0.05584303],\n",
       "       [0.70192508, 0.72223179, 0.50630421, 0.02779108, 0.15602759,\n",
       "        0.29481824, 0.728704  , 0.94355865, 0.70333783, 0.47690603],\n",
       "       [0.27433536, 0.67785057, 0.16390962, 0.81753665, 0.29481824,\n",
       "        0.42216362, 0.41792832, 0.38484946, 0.13807172, 0.51841103],\n",
       "       [0.22838154, 0.51674664, 0.57975015, 0.26457565, 0.728704  ,\n",
       "        0.41792832, 0.07251006, 0.96906634, 0.64738459, 0.54758743],\n",
       "       [0.22423693, 0.45401715, 0.07799619, 0.90481267, 0.94355865,\n",
       "        0.38484946, 0.96906634, 0.18152874, 0.34508943, 0.26948412],\n",
       "       [0.22831891, 0.47638217, 0.72678209, 0.00858426, 0.70333783,\n",
       "        0.13807172, 0.64738459, 0.34508943, 0.31429666, 0.80373316],\n",
       "       [0.70532285, 0.60546062, 0.87084353, 0.05584303, 0.47690603,\n",
       "        0.51841103, 0.54758743, 0.26948412, 0.80373316, 0.36772612]])"
      ]
     },
     "execution_count": 2,
     "metadata": {},
     "output_type": "execute_result"
    }
   ],
   "source": [
    "m = 10\n",
    "A = np.random.rand(m,m)\n",
    "M = np.tril(A,-1) + np.tril(A).T\n",
    "M"
   ]
  },
  {
   "cell_type": "code",
   "execution_count": 3,
   "metadata": {},
   "outputs": [],
   "source": [
    "eig_values, eig_vectors = np.linalg.eig(M)"
   ]
  },
  {
   "cell_type": "code",
   "execution_count": 4,
   "metadata": {},
   "outputs": [
    {
     "data": {
      "text/plain": [
       "array([ 4.71664817,  1.43070783, -1.37406418,  0.69604427,  0.53832659,\n",
       "        0.08934167, -0.80789997, -0.67592348, -0.48184403, -0.33588529])"
      ]
     },
     "execution_count": 4,
     "metadata": {},
     "output_type": "execute_result"
    }
   ],
   "source": [
    "eig_values"
   ]
  },
  {
   "cell_type": "code",
   "execution_count": 5,
   "metadata": {},
   "outputs": [
    {
     "data": {
      "text/plain": [
       "array([[-3.00654946e-01, -1.67216645e-01, -2.35948305e-01,\n",
       "         7.03227375e-01, -3.51328518e-01,  3.20974786e-01,\n",
       "        -2.78229329e-01, -1.32400962e-01,  7.38590682e-02,\n",
       "        -6.77611734e-02],\n",
       "       [-3.40732329e-01, -7.68303673e-02, -4.41287998e-02,\n",
       "         1.47793651e-01, -5.91123608e-02, -3.77391182e-01,\n",
       "        -1.57212071e-02,  5.32049704e-01, -3.52709140e-01,\n",
       "         5.48235445e-01],\n",
       "       [-3.16626507e-01,  4.71211330e-01, -2.02147526e-01,\n",
       "        -2.26070291e-02,  5.27802046e-01,  4.29421238e-01,\n",
       "        -1.01693950e-02, -1.23429813e-01,  8.79494905e-02,\n",
       "         3.87661953e-01],\n",
       "       [-2.40234759e-01, -5.56449581e-01,  4.32720651e-01,\n",
       "        -2.74288246e-02,  3.70589765e-01,  4.16303788e-01,\n",
       "         7.62088564e-02,  1.07848709e-01, -3.03542340e-01,\n",
       "        -1.56297532e-01],\n",
       "       [-3.58321360e-01,  6.73116494e-02,  4.63538036e-01,\n",
       "        -1.31433887e-01, -4.43182391e-01, -2.32597456e-04,\n",
       "         3.42610603e-01, -4.71191801e-01,  5.00370418e-02,\n",
       "         3.10828632e-01],\n",
       "       [-2.69195790e-01, -3.54397232e-01, -1.78886787e-01,\n",
       "         6.23809660e-02,  4.18744491e-01, -5.63673612e-01,\n",
       "        -8.68247593e-02, -4.91617392e-01,  1.53035018e-01,\n",
       "        -1.79876648e-02],\n",
       "       [-3.37229826e-01,  3.87212260e-02,  2.51311335e-01,\n",
       "        -3.80968251e-01, -1.07178823e-01, -2.28050653e-02,\n",
       "        -7.01033235e-01,  1.90817697e-01,  3.60430143e-01,\n",
       "        -8.18917997e-02],\n",
       "       [-3.16379183e-01, -2.97641908e-01, -5.95705100e-01,\n",
       "        -4.67708266e-01, -2.25613236e-01,  1.76147714e-01,\n",
       "         3.26531228e-01,  1.40346079e-01,  1.38925866e-01,\n",
       "        -1.00739803e-01],\n",
       "       [-3.09803082e-01,  3.67299026e-01, -1.14547518e-01,\n",
       "        -1.32586507e-01, -7.52776219e-02, -1.05233760e-01,\n",
       "        -1.31378584e-01, -1.85417382e-01, -6.79651886e-01,\n",
       "        -4.56186004e-01],\n",
       "       [-3.53390346e-01,  2.81660372e-01,  1.90418438e-01,\n",
       "         2.82367869e-01,  1.31716720e-01, -1.91022020e-01,\n",
       "         4.19736753e-01,  3.43990466e-01,  3.64976221e-01,\n",
       "        -4.45238332e-01]])"
      ]
     },
     "execution_count": 5,
     "metadata": {},
     "output_type": "execute_result"
    }
   ],
   "source": [
    "eig_vectors"
   ]
  },
  {
   "cell_type": "code",
   "execution_count": 6,
   "metadata": {},
   "outputs": [
    {
     "name": "stdout",
     "output_type": "stream",
     "text": [
      "4.716648172209673\n",
      "[-0.30065495 -0.34073233 -0.31662651 -0.24023476 -0.35832136 -0.26919579\n",
      " -0.33722983 -0.31637918 -0.30980308 -0.35339035]\n"
     ]
    }
   ],
   "source": [
    "# LARGEST EIGENVALUE AND THE CORRESPONDING EIGENVECTOR\n",
    "print(eig_values[0])\n",
    "print(eig_vectors[:,0])"
   ]
  },
  {
   "cell_type": "markdown",
   "metadata": {},
   "source": [
    "## b)"
   ]
  },
  {
   "cell_type": "code",
   "execution_count": 7,
   "metadata": {},
   "outputs": [
    {
     "name": "stdout",
     "output_type": "stream",
     "text": [
      "4.716648172208912\n",
      "[0.30065504 0.34073237 0.31662629 0.240235   0.35832131 0.26919597\n",
      " 0.3372298  0.31637935 0.30980291 0.3533902 ]\n"
     ]
    },
    {
     "data": {
      "text/plain": [
       "[<matplotlib.lines.Line2D at 0x12c4537b8>]"
      ]
     },
     "execution_count": 7,
     "metadata": {},
     "output_type": "execute_result"
    },
    {
     "data": {
      "image/png": "[encoded data removed]",
      "text/plain": [
       "<Figure size 432x288 with 1 Axes>"
      ]
     },
     "metadata": {
      "needs_background": "light"
     },
     "output_type": "display_data"
    }
   ],
   "source": [
    "# POWER ITERATION\n",
    "num_it = 10\n",
    "it_value = np.zeros(num_it)\n",
    "it_vector = np.ones(m)\n",
    "for i in range(num_it):\n",
    "    it_vector = np.dot(M,it_vector)\n",
    "    it_vector = it_vector/np.linalg.norm(it_vector,2)\n",
    "    it_value[i] = np.linalg.multi_dot([it_vector.T,M,it_vector])\n",
    "\n",
    "print(it_value[-1])\n",
    "print(it_vector)\n",
    "plt.plot(it_value)  "
   ]
  },
  {
   "cell_type": "markdown",
   "metadata": {},
   "source": [
    "#### Conclusion: Power iteration was able to find the largest eigenvalue and the corresponding eigenvector accurately for a symmetric matrix"
   ]
  },
  {
   "cell_type": "markdown",
   "metadata": {},
   "source": [
    "## c)"
   ]
  },
  {
   "cell_type": "code",
   "execution_count": 8,
   "metadata": {},
   "outputs": [
    {
     "name": "stdout",
     "output_type": "stream",
     "text": [
      "0.6960442688786567\n",
      "[-0.70322738 -0.14779365  0.02260703  0.02742882  0.13143389 -0.06238097\n",
      "  0.38096825  0.46770827  0.13258651 -0.28236787]\n"
     ]
    },
    {
     "data": {
      "text/plain": [
       "[<matplotlib.lines.Line2D at 0x12c4756a0>]"
      ]
     },
     "execution_count": 8,
     "metadata": {},
     "output_type": "execute_result"
    },
    {
     "data": {
      "image/png": "[encoded data removed]",
      "text/plain": [
       "<Figure size 432x288 with 1 Axes>"
      ]
     },
     "metadata": {
      "needs_background": "light"
     },
     "output_type": "display_data"
    }
   ],
   "source": [
    "# Rayleigh Quotient iteration initial guess [1,0,0,0,0,0,0,0,0,0]\n",
    "num_it = 10\n",
    "it_value = np.zeros(num_it)\n",
    "it_vector = np.zeros(m) # initial vector guess\n",
    "it_vector[0] = 1\n",
    "for i in range(num_it):\n",
    "    it_value[i] = np.linalg.multi_dot([it_vector.T,M,it_vector])\n",
    "    it_vector = np.dot(np.linalg.inv(M-it_value[i]*np.eye(m)),it_vector)\n",
    "    it_vector = it_vector/np.linalg.norm(it_vector,2)\n",
    "    \n",
    "\n",
    "print(it_value[-1])\n",
    "print(it_vector)\n",
    "plt.plot(it_value)  "
   ]
  },
  {
   "cell_type": "code",
   "execution_count": 9,
   "metadata": {},
   "outputs": [
    {
     "name": "stdout",
     "output_type": "stream",
     "text": [
      "0.5383265871470685\n",
      "[-0.35132852 -0.05911236  0.52780205  0.37058977 -0.44318239  0.41874449\n",
      " -0.10717882 -0.22561324 -0.07527762  0.13171672]\n"
     ]
    },
    {
     "data": {
      "text/plain": [
       "[<matplotlib.lines.Line2D at 0x12c612400>]"
      ]
     },
     "execution_count": 9,
     "metadata": {},
     "output_type": "execute_result"
    },
    {
     "data": {
      "image/png": "[encoded data removed]",
      "text/plain": [
       "<Figure size 432x288 with 1 Axes>"
      ]
     },
     "metadata": {
      "needs_background": "light"
     },
     "output_type": "display_data"
    }
   ],
   "source": [
    "# Rayleigh Quotient iteration initial guess [0,0,1,0,0,0,0,0,0,0]\n",
    "num_it = 10\n",
    "it_value = np.zeros(num_it)\n",
    "it_vector = np.zeros(m) # initial vector guess\n",
    "it_vector[2] = 1\n",
    "for i in range(num_it):\n",
    "    it_value[i] = np.linalg.multi_dot([it_vector.T,M,it_vector])\n",
    "    it_vector = np.dot(np.linalg.inv(M-it_value[i]*np.eye(m)),it_vector)\n",
    "    it_vector = it_vector/np.linalg.norm(it_vector,2)\n",
    "    \n",
    "\n",
    "print(it_value[-1])\n",
    "print(it_vector)\n",
    "plt.plot(it_value)  "
   ]
  },
  {
   "cell_type": "code",
   "execution_count": 11,
   "metadata": {},
   "outputs": [
    {
     "name": "stdout",
     "output_type": "stream",
     "text": [
      "0.08934167210940318\n",
      "[ 3.20974786e-01 -3.77391182e-01  4.29421238e-01  4.16303788e-01\n",
      " -2.32597456e-04 -5.63673612e-01 -2.28050653e-02  1.76147714e-01\n",
      " -1.05233760e-01 -1.91022020e-01]\n"
     ]
    },
    {
     "data": {
      "text/plain": [
       "[<matplotlib.lines.Line2D at 0x12c7ad9e8>]"
      ]
     },
     "execution_count": 11,
     "metadata": {},
     "output_type": "execute_result"
    },
    {
     "data": {
      "image/png": "[encoded data removed]",
      "text/plain": [
       "<Figure size 432x288 with 1 Axes>"
      ]
     },
     "metadata": {
      "needs_background": "light"
     },
     "output_type": "display_data"
    }
   ],
   "source": [
    "# Rayleigh Quotient iteration initial guess [0,1,0,0,0,0,0,0,0,0]\n",
    "num_it = 10\n",
    "it_value = np.zeros(num_it)\n",
    "it_vector = np.zeros(m) # initial vector guess\n",
    "it_vector[1] = 1\n",
    "for i in range(num_it):\n",
    "    it_value[i] = np.linalg.multi_dot([it_vector.T,M,it_vector])\n",
    "    it_vector = np.dot(np.linalg.inv(M-it_value[i]*np.eye(m)),it_vector)\n",
    "    it_vector = it_vector/np.linalg.norm(it_vector,2)\n",
    "    \n",
    "\n",
    "print(it_value[-1])\n",
    "print(it_vector)\n",
    "plt.plot(it_value)  "
   ]
  },
  {
   "cell_type": "code",
   "execution_count": 43,
   "metadata": {},
   "outputs": [
    {
     "name": "stdout",
     "output_type": "stream",
     "text": [
      "10\n"
     ]
    },
    {
     "data": {
      "text/plain": [
       "[(4.716648172,\n",
       "  array([0.30065495, 0.34073233, 0.31662651, 0.24023476, 0.35832136,\n",
       "         0.26919579, 0.33722983, 0.31637918, 0.30980308, 0.35339035])),\n",
       " (1.430707827,\n",
       "  array([ 0.16721665,  0.07683037, -0.47121133,  0.55644958, -0.06731165,\n",
       "          0.35439723, -0.03872123,  0.29764191, -0.36729903, -0.28166037])),\n",
       " (0.696044269,\n",
       "  array([-0.70322738, -0.14779365,  0.02260703,  0.02742882,  0.13143389,\n",
       "         -0.06238097,  0.38096825,  0.46770827,  0.13258651, -0.28236787])),\n",
       " (0.538326587,\n",
       "  array([-0.35132852, -0.05911236,  0.52780205,  0.37058977, -0.44318239,\n",
       "          0.41874449, -0.10717882, -0.22561324, -0.07527762,  0.13171672])),\n",
       " (0.089341672,\n",
       "  array([ 3.20974786e-01, -3.77391182e-01,  4.29421238e-01,  4.16303788e-01,\n",
       "         -2.32597456e-04, -5.63673612e-01, -2.28050653e-02,  1.76147714e-01,\n",
       "         -1.05233760e-01, -1.91022020e-01])),\n",
       " (-0.335885291,\n",
       "  array([ 0.06776117, -0.54823545, -0.38766195,  0.15629753, -0.31082863,\n",
       "          0.01798766,  0.0818918 ,  0.1007398 ,  0.456186  ,  0.44523833])),\n",
       " (-0.48184403,\n",
       "  array([ 0.07385907, -0.35270914,  0.08794949, -0.30354234,  0.05003704,\n",
       "          0.15303502,  0.36043014,  0.13892587, -0.67965189,  0.36497622])),\n",
       " (-0.675923477,\n",
       "  array([-0.13240096,  0.5320497 , -0.12342981,  0.10784871, -0.4711918 ,\n",
       "         -0.49161739,  0.1908177 ,  0.14034608, -0.18541738,  0.34399047])),\n",
       " (-0.807899965,\n",
       "  array([ 0.27822933,  0.01572121,  0.01016939, -0.07620886, -0.3426106 ,\n",
       "          0.08682476,  0.70103323, -0.32653123,  0.13137858, -0.41973675])),\n",
       " (-1.374064184,\n",
       "  array([ 0.23594831,  0.0441288 ,  0.20214753, -0.43272065, -0.46353804,\n",
       "          0.17888679, -0.25131134,  0.5957051 ,  0.11454752, -0.19041844]))]"
      ]
     },
     "execution_count": 43,
     "metadata": {},
     "output_type": "execute_result"
    }
   ],
   "source": [
    "num_it = 10\n",
    "it_values = []\n",
    "it_vectors = []\n",
    "\n",
    "# Try standard basis vectors\n",
    "for i in range(m):\n",
    "    it_vector = np.zeros(m) # initial vector guess\n",
    "    it_vector[i] = 1\n",
    "    singular = False\n",
    "    for i in range(num_it):\n",
    "        it_value = np.linalg.multi_dot([it_vector.T,M,it_vector])\n",
    "        try:\n",
    "            it_vector = np.dot(np.linalg.inv(M-it_value*np.eye(m)),it_vector)\n",
    "        except:\n",
    "            singular=True\n",
    "            break\n",
    "        it_vector = it_vector/np.linalg.norm(it_vector,2)\n",
    "    it_value = np.round(it_value,9)\n",
    "    if not singular and it_value not in set(it_values):\n",
    "        \n",
    "        it_values.append(it_value)\n",
    "        it_vectors.append(it_vector)\n",
    "        \n",
    "# Try vectors\n",
    "for i in range(m):\n",
    "    it_vector = np.zeros(m) # initial vector guess\n",
    "    it_vector[i] = -1\n",
    "    it_vector[np.mod(i+2,10)] = 2\n",
    "    it_vector[np.mod(i+4,10)] = -1\n",
    "    singular = False\n",
    "    for i in range(num_it):\n",
    "        it_value = np.linalg.multi_dot([it_vector.T,M,it_vector])\n",
    "        try:\n",
    "            it_vector = np.dot(np.linalg.inv(M-it_value*np.eye(m)),it_vector)\n",
    "        except:\n",
    "            singular=True\n",
    "            break\n",
    "        it_vector = it_vector/np.linalg.norm(it_vector,2)\n",
    "    it_value = np.round(it_value,9)\n",
    "    if not singular and it_value not in set(it_values):\n",
    "        \n",
    "        it_values.append(it_value)\n",
    "        it_vectors.append(it_vector)\n",
    "\n",
    "        \n",
    "# Try vectors\n",
    "for i in range(m):\n",
    "    it_vector = np.ones(m) # initial vector guess\n",
    "    it_vector[i] = -1\n",
    "    it_vector[np.mod(i+1,10)] = -1\n",
    "    it_vector[np.mod(i+2,10)] = -1\n",
    "    singular = False\n",
    "    for i in range(num_it):\n",
    "        it_value = np.linalg.multi_dot([it_vector.T,M,it_vector])\n",
    "        try:\n",
    "            it_vector = np.dot(np.linalg.inv(M-it_value*np.eye(m)),it_vector)\n",
    "        except:\n",
    "            singular=True\n",
    "            break\n",
    "        it_vector = it_vector/np.linalg.norm(it_vector,2)\n",
    "    it_value = np.round(it_value,9)\n",
    "    if not singular and it_value not in set(it_values):\n",
    "        \n",
    "        it_values.append(it_value)\n",
    "        it_vectors.append(it_vector)\n",
    "        \n",
    "# Try vectors\n",
    "for i in range(m):\n",
    "    it_vector = np.ones(m) # initial vector guess\n",
    "    it_vector[i] = -1\n",
    "    it_vector[np.mod(i+1,10)] = -1\n",
    "    it_vector[np.mod(i+4,10)] = -1\n",
    "    it_vector[np.mod(i+5,10)] = -1\n",
    "    singular = False\n",
    "    for i in range(num_it):\n",
    "        it_value = np.linalg.multi_dot([it_vector.T,M,it_vector])\n",
    "        try:\n",
    "            it_vector = np.dot(np.linalg.inv(M-it_value*np.eye(m)),it_vector)\n",
    "        except:\n",
    "            singular=True\n",
    "            break\n",
    "        it_vector = it_vector/np.linalg.norm(it_vector,2)\n",
    "    it_value = np.round(it_value,9)\n",
    "    if not singular and it_value not in set(it_values):\n",
    "        \n",
    "        it_values.append(it_value)\n",
    "        it_vectors.append(it_vector)\n",
    "        \n",
    "# Try these vectors\n",
    "for i in range(m):\n",
    "    it_vector = np.zeros(m) # initial vector guess\n",
    "    it_vector[np.mod(i+1,10)] = 1\n",
    "    it_vector[np.mod(i+2,10)] = 1\n",
    "    it_vector[np.mod(i+3,10)] = -1\n",
    "    it_vector[np.mod(i+4,10)] = 1\n",
    "    it_vector[np.mod(i+6,10)] = -1\n",
    "    it_vector[np.mod(i+8,10)] = -1\n",
    "    it_vector[np.mod(i+9,10)] = -1\n",
    "    singular = False\n",
    "    for i in range(num_it):\n",
    "        it_value = np.linalg.multi_dot([it_vector.T,M,it_vector])\n",
    "        try:\n",
    "            it_vector = np.dot(np.linalg.inv(M-it_value*np.eye(m)),it_vector)\n",
    "        except:\n",
    "            singular=True\n",
    "            break\n",
    "        it_vector = it_vector/np.linalg.norm(it_vector,2)\n",
    "    it_value = np.round(it_value,9)\n",
    "    if not singular and it_value not in set(it_values):\n",
    "        \n",
    "        it_values.append(it_value)\n",
    "        it_vectors.append(it_vector)\n",
    "\n",
    "# PRINT ALL EIGENVECTORS AND EIGENVALUES\n",
    "print(len(it_values))\n",
    "sorted(zip(it_values,it_vectors),reverse=True)"
   ]
  },
  {
   "cell_type": "markdown",
   "metadata": {},
   "source": [
    "#### Comments: In general this method was very fast, convering into a solution with 3-4 iterations, I continued for 10 iterations. The results were accurate up to 12 digits with 10 iterations. This conclusion I reached by comparing with the ground truth. It was not easy to make initial guesses of eigenvectors.  I made 50 guess above to find all 10 eigenvalues."
   ]
  },
  {
   "cell_type": "markdown",
   "metadata": {},
   "source": [
    "## d)"
   ]
  },
  {
   "cell_type": "markdown",
   "metadata": {},
   "source": [
    "#### Create a matrix that is not symmetric"
   ]
  },
  {
   "cell_type": "code",
   "execution_count": 67,
   "metadata": {},
   "outputs": [],
   "source": [
    "m = 10\n",
    "A = np.random.rand(m,m)"
   ]
  },
  {
   "cell_type": "code",
   "execution_count": 68,
   "metadata": {},
   "outputs": [],
   "source": [
    "eig_values, eig_vectors = np.linalg.eig(A)"
   ]
  },
  {
   "cell_type": "code",
   "execution_count": 69,
   "metadata": {},
   "outputs": [
    {
     "data": {
      "text/plain": [
       "array([ 4.95026733+0.j        , -1.00316916+0.j        ,\n",
       "       -0.58456431+0.20970639j, -0.58456431-0.20970639j,\n",
       "        0.28137065+0.89682175j,  0.28137065-0.89682175j,\n",
       "        0.21512884+0.25627644j,  0.21512884-0.25627644j,\n",
       "        0.52073042+0.07609933j,  0.52073042-0.07609933j])"
      ]
     },
     "execution_count": 69,
     "metadata": {},
     "output_type": "execute_result"
    }
   ],
   "source": [
    "eig_values"
   ]
  },
  {
   "cell_type": "code",
   "execution_count": 62,
   "metadata": {},
   "outputs": [
    {
     "data": {
      "text/plain": [
       "array([[-3.58458577e-01+0.j        , -6.59384368e-02+0.j        ,\n",
       "         5.86446440e-01+0.j        ,  2.07298680e-01-0.33779405j,\n",
       "         2.07298680e-01+0.33779405j, -2.28266130e-01+0.01533379j,\n",
       "        -2.28266130e-01-0.01533379j, -1.99781958e-01-0.1126855j ,\n",
       "        -1.99781958e-01+0.1126855j , -1.44158337e-01+0.j        ],\n",
       "       [-3.54860104e-01+0.j        , -2.87933270e-01+0.j        ,\n",
       "         5.02866083e-01+0.j        ,  1.52055603e-01+0.32908621j,\n",
       "         1.52055603e-01-0.32908621j,  5.27415751e-01+0.j        ,\n",
       "         5.27415751e-01-0.j        ,  7.55630641e-02+0.17406941j,\n",
       "         7.55630641e-02-0.17406941j, -6.31128817e-01+0.j        ],\n",
       "       [-3.01889252e-01+0.j        ,  5.96920825e-01+0.j        ,\n",
       "        -1.00828500e-01+0.j        ,  1.61995972e-01+0.07637886j,\n",
       "         1.61995972e-01-0.07637886j, -2.61859999e-01+0.26875857j,\n",
       "        -2.61859999e-01-0.26875857j,  9.88905615e-02-0.30079059j,\n",
       "         9.88905615e-02+0.30079059j,  1.22417292e-02+0.j        ],\n",
       "       [-2.62295730e-01+0.j        , -3.54703079e-02+0.j        ,\n",
       "        -3.57597027e-01+0.j        , -9.87200804e-02+0.07435664j,\n",
       "        -9.87200804e-02-0.07435664j,  1.98675051e-03-0.01800517j,\n",
       "         1.98675051e-03+0.01800517j,  4.39782454e-01+0.19971339j,\n",
       "         4.39782454e-01-0.19971339j,  4.84482862e-02+0.j        ],\n",
       "       [-3.34867385e-01+0.j        , -9.59115797e-02+0.j        ,\n",
       "        -2.28886052e-01+0.j        ,  6.78112351e-03-0.34124436j,\n",
       "         6.78112351e-03+0.34124436j,  2.54627223e-01+0.20101081j,\n",
       "         2.54627223e-01-0.20101081j, -5.41185984e-01+0.j        ,\n",
       "        -5.41185984e-01-0.j        , -8.99077518e-02+0.j        ],\n",
       "       [-2.96670050e-01+0.j        ,  3.11620232e-01+0.j        ,\n",
       "        -2.82416142e-01+0.j        , -7.05162701e-02+0.29645805j,\n",
       "        -7.05162701e-02-0.29645805j, -1.64687217e-01+0.03707838j,\n",
       "        -1.64687217e-01-0.03707838j, -1.85364410e-02+0.13722749j,\n",
       "        -1.85364410e-02-0.13722749j,  1.69599046e-04+0.j        ],\n",
       "       [-3.66409638e-01+0.j        ,  2.72508129e-01+0.j        ,\n",
       "         6.00142420e-02+0.j        , -5.93514594e-01+0.j        ,\n",
       "        -5.93514594e-01-0.j        , -2.73565891e-01+0.1020238j ,\n",
       "        -2.73565891e-01-0.1020238j , -6.35157358e-02-0.09781242j,\n",
       "        -6.35157358e-02+0.09781242j,  3.35142081e-01+0.j        ],\n",
       "       [-3.33531695e-01+0.j        , -1.92402965e-02+0.j        ,\n",
       "        -3.64393842e-02+0.j        ,  2.30870308e-02-0.15093853j,\n",
       "         2.30870308e-02+0.15093853j,  2.41489378e-01-0.22958154j,\n",
       "         2.41489378e-01+0.22958154j,  1.85242518e-01+0.1445391j ,\n",
       "         1.85242518e-01-0.1445391j ,  1.77308681e-01+0.j        ],\n",
       "       [-1.97731436e-01+0.j        , -5.64502817e-01+0.j        ,\n",
       "        -3.13110833e-01+0.j        ,  2.03464708e-01-0.05578404j,\n",
       "         2.03464708e-01+0.05578404j,  2.73201336e-01-0.2216472j ,\n",
       "         2.73201336e-01+0.2216472j ,  1.36610172e-01-0.40588908j,\n",
       "         1.36610172e-01+0.40588908j, -3.79738458e-01+0.j        ],\n",
       "       [-3.17646290e-01+0.j        , -2.35740198e-01+0.j        ,\n",
       "         1.73345381e-01+0.j        , -5.30304736e-02+0.17861182j,\n",
       "        -5.30304736e-02-0.17861182j, -2.23517220e-01-0.15692898j,\n",
       "        -2.23517220e-01+0.15692898j, -4.79069633e-02+0.10612432j,\n",
       "        -4.79069633e-02-0.10612432j,  5.31370287e-01+0.j        ]])"
      ]
     },
     "execution_count": 62,
     "metadata": {},
     "output_type": "execute_result"
    }
   ],
   "source": [
    "eig_vectors"
   ]
  },
  {
   "cell_type": "markdown",
   "metadata": {},
   "source": [
    "#### User power iteration to find the largest eigenvalues"
   ]
  },
  {
   "cell_type": "code",
   "execution_count": 63,
   "metadata": {},
   "outputs": [
    {
     "name": "stdout",
     "output_type": "stream",
     "text": [
      "4.661169645185953\n",
      "[0.35845858 0.35486011 0.30188925 0.26229573 0.33486739 0.29667005\n",
      " 0.36640964 0.3335317  0.19773144 0.31764629]\n"
     ]
    },
    {
     "data": {
      "text/plain": [
       "[<matplotlib.lines.Line2D at 0x12c7bae48>]"
      ]
     },
     "execution_count": 63,
     "metadata": {},
     "output_type": "execute_result"
    },
    {
     "data": {
      "image/png": "[encoded data removed]",
      "text/plain": [
       "<Figure size 432x288 with 1 Axes>"
      ]
     },
     "metadata": {
      "needs_background": "light"
     },
     "output_type": "display_data"
    }
   ],
   "source": [
    "# POWER ITERATION\n",
    "num_it = 10\n",
    "it_value = np.zeros(num_it)\n",
    "it_vector = np.ones(m)\n",
    "for i in range(num_it):\n",
    "    it_vector = np.dot(A,it_vector)\n",
    "    it_vector = it_vector/np.linalg.norm(it_vector,2)\n",
    "    it_value[i] = np.linalg.multi_dot([it_vector.T,A,it_vector])\n",
    "\n",
    "print(it_value[-1])\n",
    "print(it_vector)\n",
    "plt.plot(it_value)  "
   ]
  },
  {
   "cell_type": "markdown",
   "metadata": {},
   "source": [
    "#### Rayleigh Quotient iterations"
   ]
  },
  {
   "cell_type": "code",
   "execution_count": 72,
   "metadata": {},
   "outputs": [
    {
     "name": "stdout",
     "output_type": "stream",
     "text": [
      "37\n"
     ]
    },
    {
     "data": {
      "text/plain": [
       "[(4.950267327,\n",
       "  array([-0.28827149, -0.20869868, -0.30440231, -0.395821  , -0.17354739,\n",
       "         -0.40770965, -0.1715858 , -0.26334541, -0.38580478, -0.42429436])),\n",
       " (0.610897451,\n",
       "  array([ 0.03965242, -0.40698299,  0.25597679,  0.05024101, -0.07466244,\n",
       "         -0.29921649, -0.22761935,  0.41319711, -0.49151828,  0.45332838])),\n",
       " (0.595092958,\n",
       "  array([-0.01658184, -0.33658729,  0.24671782,  0.05077961, -0.01958207,\n",
       "         -0.42917979, -0.16332218,  0.45555444, -0.47112593,  0.42689978])),\n",
       " (0.592826032,\n",
       "  array([-0.02081421, -0.33077779,  0.24566404,  0.05074771, -0.01538529,\n",
       "         -0.43840199, -0.15822217,  0.45810845, -0.46890844,  0.42428872])),\n",
       " (0.586307584,\n",
       "  array([ 0.03311735,  0.31348108, -0.24231532, -0.05059707,  0.0031446 ,\n",
       "          0.46476284,  0.14318821, -0.46502564,  0.46191629, -0.41620107])),\n",
       " (0.575845606,\n",
       "  array([ 0.05423711,  0.28235126, -0.23556301, -0.05013477, -0.01801212,\n",
       "          0.50844137,  0.11664716, -0.4751168 ,  0.44799336, -0.40056838])),\n",
       " (0.562789295,\n",
       "  array([-0.08597988, -0.23201817,  0.22293953,  0.0489377 ,  0.05016584,\n",
       "         -0.57021191, -0.0749478 ,  0.48588796, -0.42233353,  0.37275993])),\n",
       " (0.562005324,\n",
       "  array([ 0.08819594,  0.22833843, -0.22194249, -0.04883064, -0.05242722,\n",
       "          0.57434291,  0.07195204, -0.48643431,  0.42032071, -0.3706168 ])),\n",
       " (0.561435173,\n",
       "  array([-0.08983672, -0.22559951,  0.2211942 ,  0.04874933,  0.05410299,\n",
       "         -0.57738575, -0.06972662,  0.48682094, -0.41881115,  0.36901248])),\n",
       " (0.55807357,\n",
       "  array([ 0.10006147,  0.20825064, -0.21633506, -0.04820282, -0.064574  ,\n",
       "          0.59604037,  0.05571527, -0.48888205,  0.40902905, -0.35867321])),\n",
       " (0.557454786,\n",
       "  array([-0.10205646, -0.20480827,  0.21534693,  0.04808807,  0.06662279,\n",
       "         -0.5996174 , -0.05295221,  0.48921307, -0.40704382,  0.35658609])),\n",
       " (0.551606044,\n",
       "  array([-0.12305402, -0.1673899 ,  0.20411819,  0.0467121 ,  0.08830557,\n",
       "         -0.6359679 , -0.02326506,  0.49122549, -0.38456428,  0.33317504])),\n",
       " (0.543487953,\n",
       "  array([-0.16105787, -0.09356685,  0.17953769,  0.04335775,  0.12816103,\n",
       "         -0.69508844,  0.03357726,  0.48730591, -0.3357347 ,  0.28338397])),\n",
       " (0.543331183,\n",
       "  array([-0.16192615, -0.09177718,  0.17890417,  0.04326652,  0.12908194,\n",
       "         -0.69632647,  0.0349285 ,  0.4870886 , -0.33448151,  0.28212105])),\n",
       " (0.532397419,\n",
       "  array([-0.23844265,  0.09174904,  0.10505756,  0.03157022,  0.21282432,\n",
       "         -0.77719508,  0.16717244,  0.43593539, -0.18957994,  0.13942814])),\n",
       " (0.531244099,\n",
       "  array([-0.24801892,  0.12003742,  0.09210209,  0.02935284,  0.22383821,\n",
       "         -0.78149763,  0.18643666,  0.42293785, -0.16434227,  0.11509876])),\n",
       " (0.518132606,\n",
       "  array([-0.28552784,  0.4809461 , -0.13323227, -0.01476201,  0.2920512 ,\n",
       "         -0.52478756,  0.38947142,  0.06192578,  0.26846157, -0.28443918])),\n",
       " (0.512607543,\n",
       "  array([ 0.23179675, -0.52864828,  0.20463739,  0.03156227, -0.25094775,\n",
       "          0.27486344, -0.38667961,  0.12108798, -0.40248123,  0.39903557])),\n",
       " (0.500311793,\n",
       "  array([ 0.1176767 , -0.48267589,  0.25348002,  0.04638003, -0.1488822 ,\n",
       "         -0.09485263, -0.30561871,  0.3271741 , -0.49046369,  0.46325987])),\n",
       " (0.496430982,\n",
       "  array([ 0.093289  , -0.46197689,  0.25632667,  0.04800615, -0.1259804 ,\n",
       "         -0.16196731, -0.28274869,  0.35773195, -0.4947456 ,  0.46375631])),\n",
       " (0.487203071,\n",
       "  array([ 0.05015047, -0.4187104 ,  0.25671799,  0.0499401 , -0.08480328,\n",
       "         -0.2734074 , -0.23890115,  0.40353603, -0.49343671,  0.45654169])),\n",
       " (0.485138764,\n",
       "  array([ 0.04250568, -0.41021527,  0.25620958,  0.05016558, -0.07742311,\n",
       "         -0.29225095, -0.23070852,  0.41062699, -0.49209963,  0.45425633])),\n",
       " (0.478015324,\n",
       "  array([-0.01980343,  0.38358195, -0.25371841, -0.05063602,  0.05536575,\n",
       "          0.34667176,  0.20566226, -0.42994146,  0.48625183, -0.4457595 ])),\n",
       " (0.474992431,\n",
       "  array([-0.01149272,  0.37331328, -0.25244423, -0.05073474,  0.04723909,\n",
       "          0.36602627,  0.19622877, -0.43636863,  0.48341824, -0.44201781])),\n",
       " (0.466421812,\n",
       "  array([ 0.0091717 ,  0.34658618, -0.24844236, -0.050811  ,  0.0269126 ,\n",
       "          0.4128446 ,  0.17216342, -0.45086891,  0.474778  , -0.43126143])),\n",
       " (0.465602621,\n",
       "  array([-0.01097384, -0.34417463,  0.24803703,  0.05080623, -0.02513184,\n",
       "         -0.41683938, -0.17002353,  0.45203345, -0.47391676,  0.43022522])),\n",
       " (0.462841464,\n",
       "  array([-0.01687759, -0.33618366,  0.24664581,  0.05077771, -0.01928904,\n",
       "         -0.42982676, -0.16296699,  0.4557358 , -0.47097409,  0.42672016])),\n",
       " (0.462576319,\n",
       "  array([ 0.01743179,  0.33542637, -0.24651021, -0.05077402,  0.01873984,\n",
       "          0.4310381 ,  0.16230092, -0.45607448,  0.47068829, -0.42638243])),\n",
       " (0.457033743,\n",
       "  array([ 0.02859841,  0.31990511, -0.24359483, -0.05066245,  0.00764771,\n",
       "          0.45515812,  0.14874637, -0.46257293,  0.46457925, -0.41925797])),\n",
       " (0.453176386,\n",
       "  array([-3.60040669e-02, -3.09334048e-01,  2.41467703e-01,  5.05491645e-02,\n",
       "         -2.63645960e-04, -4.70850960e-01, -1.39615530e-01,  4.66538697e-01,\n",
       "         -4.60157318e-01,  4.14195581e-01])),\n",
       " (0.443516895,\n",
       "  array([ 0.10325818,  0.2027255 , -0.2147453 , -0.04801764, -0.06785783,\n",
       "          0.60176203,  0.05128314, -0.48940107,  0.40583572, -0.3553177 ])),\n",
       " (0.440383424,\n",
       "  array([ 0.1041137 ,  0.20123851, -0.21431403, -0.0479669 , -0.06873751,\n",
       "          0.6032842 ,  0.05009273, -0.48952966,  0.40496999, -0.35440955])),\n",
       " (0.427269103,\n",
       "  array([ 0.09738328,  0.21284215, -0.21764084, -0.04835267, -0.06182657,\n",
       "          0.59120586,  0.05940942, -0.48840081,  0.41165444, -0.36143892])),\n",
       " (0.010362966,\n",
       "  array([-0.39811695,  0.01718601, -0.03531832, -0.00552717,  0.4758195 ,\n",
       "         -0.21999165,  0.24096214,  0.34472337, -0.6114171 ,  0.12000527])),\n",
       " (-0.599274302,\n",
       "  array([ 0.40918294, -0.11293524, -0.17679007, -0.48045348,  0.44456471,\n",
       "         -0.07784936,  0.15706327,  0.43491602, -0.1313704 , -0.35063853])),\n",
       " (-0.769313668,\n",
       "  array([ 0.11271873,  0.40574263, -0.25529492, -0.11431978, -0.23840194,\n",
       "          0.23882918, -0.03318603,  0.52000484, -0.56123739, -0.20989112])),\n",
       " (-1.003169158,\n",
       "  array([-0.3202667 ,  0.10119719,  0.27967218, -0.28730524,  0.08123454,\n",
       "          0.16288136,  0.22322869,  0.64969018, -0.29758212, -0.36443745]))]"
      ]
     },
     "execution_count": 72,
     "metadata": {},
     "output_type": "execute_result"
    }
   ],
   "source": [
    "num_it = 100\n",
    "it_values = []\n",
    "it_vectors = []\n",
    "M =A.copy()\n",
    "# Try standard basis vectors\n",
    "for i in range(m):\n",
    "    it_vector = np.zeros(m) # initial vector guess\n",
    "    it_vector[i] = 1\n",
    "    singular = False\n",
    "    for i in range(num_it):\n",
    "        it_value = np.linalg.multi_dot([it_vector.T,M,it_vector])\n",
    "        try:\n",
    "            it_vector = np.dot(np.linalg.inv(M-it_value*np.eye(m)),it_vector)\n",
    "        except:\n",
    "            singular=True\n",
    "            break\n",
    "        it_vector = it_vector/np.linalg.norm(it_vector,2)\n",
    "    it_value = np.round(it_value,9)\n",
    "    if not singular and it_value not in set(it_values):\n",
    "        \n",
    "        it_values.append(it_value)\n",
    "        it_vectors.append(it_vector)\n",
    "        \n",
    "# Try vectors\n",
    "for i in range(m):\n",
    "    it_vector = np.zeros(m) # initial vector guess\n",
    "    it_vector[i] = -1\n",
    "    it_vector[np.mod(i+2,10)] = 2\n",
    "    it_vector[np.mod(i+4,10)] = -1\n",
    "    singular = False\n",
    "    for i in range(num_it):\n",
    "        it_value = np.linalg.multi_dot([it_vector.T,M,it_vector])\n",
    "        try:\n",
    "            it_vector = np.dot(np.linalg.inv(M-it_value*np.eye(m)),it_vector)\n",
    "        except:\n",
    "            singular=True\n",
    "            break\n",
    "        it_vector = it_vector/np.linalg.norm(it_vector,2)\n",
    "    it_value = np.round(it_value,9)\n",
    "    if not singular and it_value not in set(it_values):\n",
    "        \n",
    "        it_values.append(it_value)\n",
    "        it_vectors.append(it_vector)\n",
    "\n",
    "        \n",
    "# Try vectors\n",
    "for i in range(m):\n",
    "    it_vector = np.ones(m) # initial vector guess\n",
    "    it_vector[i] = -1\n",
    "    it_vector[np.mod(i+1,10)] = -1\n",
    "    it_vector[np.mod(i+2,10)] = -1\n",
    "    singular = False\n",
    "    for i in range(num_it):\n",
    "        it_value = np.linalg.multi_dot([it_vector.T,M,it_vector])\n",
    "        try:\n",
    "            it_vector = np.dot(np.linalg.inv(M-it_value*np.eye(m)),it_vector)\n",
    "        except:\n",
    "            singular=True\n",
    "            break\n",
    "        it_vector = it_vector/np.linalg.norm(it_vector,2)\n",
    "    it_value = np.round(it_value,9)\n",
    "    if not singular and it_value not in set(it_values):\n",
    "        \n",
    "        it_values.append(it_value)\n",
    "        it_vectors.append(it_vector)\n",
    "        \n",
    "# Try vectors\n",
    "for i in range(m):\n",
    "    it_vector = np.ones(m) # initial vector guess\n",
    "    it_vector[i] = -1\n",
    "    it_vector[np.mod(i+1,10)] = -1\n",
    "    it_vector[np.mod(i+4,10)] = -1\n",
    "    it_vector[np.mod(i+5,10)] = -1\n",
    "    singular = False\n",
    "    for i in range(num_it):\n",
    "        it_value = np.linalg.multi_dot([it_vector.T,M,it_vector])\n",
    "        try:\n",
    "            it_vector = np.dot(np.linalg.inv(M-it_value*np.eye(m)),it_vector)\n",
    "        except:\n",
    "            singular=True\n",
    "            break\n",
    "        it_vector = it_vector/np.linalg.norm(it_vector,2)\n",
    "    it_value = np.round(it_value,9)\n",
    "    if not singular and it_value not in set(it_values):\n",
    "        \n",
    "        it_values.append(it_value)\n",
    "        it_vectors.append(it_vector)\n",
    "        \n",
    "# Try these vectors\n",
    "for i in range(m):\n",
    "    it_vector = np.zeros(m) # initial vector guess\n",
    "    it_vector[np.mod(i+1,10)] = 1\n",
    "    it_vector[np.mod(i+2,10)] = 1\n",
    "    it_vector[np.mod(i+3,10)] = -1\n",
    "    it_vector[np.mod(i+4,10)] = 1\n",
    "    it_vector[np.mod(i+6,10)] = -1\n",
    "    it_vector[np.mod(i+8,10)] = -1\n",
    "    it_vector[np.mod(i+9,10)] = -1\n",
    "    singular = False\n",
    "    for i in range(num_it):\n",
    "        it_value = np.linalg.multi_dot([it_vector.T,M,it_vector])\n",
    "        try:\n",
    "            it_vector = np.dot(np.linalg.inv(M-it_value*np.eye(m)),it_vector)\n",
    "        except:\n",
    "            singular=True\n",
    "            break\n",
    "        it_vector = it_vector/np.linalg.norm(it_vector,2)\n",
    "    it_value = np.round(it_value,9)\n",
    "    if not singular and it_value not in set(it_values):\n",
    "        \n",
    "        it_values.append(it_value)\n",
    "        it_vectors.append(it_vector)\n",
    "\n",
    "# PRINT ALL EIGENVECTORS AND EIGENVALUES\n",
    "print(len(it_values))\n",
    "sorted(zip(it_values,it_vectors),reverse=True)"
   ]
  },
  {
   "cell_type": "markdown",
   "metadata": {},
   "source": [
    "#### Conclusion:\n",
    "Power iterations still worked for a non-symmetric matrix and was able to find largest eigenvalue. However rayleigh quotient did not work for a non-symmetric matrix even with much higher number of iterations. One of the reasons is that rayleigh coefficient removes the information about non-symmetric part of matrix."
   ]
  },
  {
   "cell_type": "markdown",
   "metadata": {},
   "source": [
    "## Question 2"
   ]
  },
  {
   "cell_type": "code",
   "execution_count": null,
   "metadata": {},
   "outputs": [],
   "source": []
  },
  {
   "cell_type": "code",
   "execution_count": null,
   "metadata": {},
   "outputs": [],
   "source": []
  },
  {
   "cell_type": "code",
   "execution_count": null,
   "metadata": {},
   "outputs": [],
   "source": [
    "# THE FUNCTION TO READ THE IMAGES:\n",
    "def read_pgm(pgmf):\n",
    "    pgmf = open(pgmf, 'rb')\n",
    "    \"\"\"Return a raster of integers from a PGM as a list of lists.\"\"\"\n",
    "    assert pgmf.readline() == b'P5\\n'\n",
    "    (width, height) = [int(i) for i in pgmf.readline().split()]\n",
    "    depth = int(pgmf.readline())\n",
    "    assert depth <= 255\n",
    "\n",
    "    raster = []\n",
    "    for y in range(height):\n",
    "        row = []\n",
    "        for y in range(width):\n",
    "            row.append(ord(pgmf.read(1)))\n",
    "        raster.append(row)\n",
    "    return raster"
   ]
  },
  {
   "cell_type": "code",
   "execution_count": null,
   "metadata": {},
   "outputs": [],
   "source": [
    "# READ ALL THE IMAGES:\n",
    "images = []\n",
    "for root, dirs, files in os.walk(\"/home/cdsw/data/CroppedYale/\"):\n",
    "    for file in files:\n",
    "        if file.endswith('.pgm'):\n",
    "            im = resize(\n",
    "                np.array(read_pgm(os.path.join(root, file))), (40, 40))\n",
    "            images.append(im)\n",
    "print(len(images))"
   ]
  },
  {
   "cell_type": "code",
   "execution_count": null,
   "metadata": {},
   "outputs": [],
   "source": [
    "# OUR DATA MATRIX WHERE EACH IMAGE IS A COLUMN\n",
    "data = np.array(images).reshape(len(images),1600).transpose()\n",
    "data.shape"
   ]
  },
  {
   "cell_type": "code",
   "execution_count": null,
   "metadata": {},
   "outputs": [],
   "source": [
    "# EXAMPLE IMAGE\n",
    "plt.imshow(data[:,-1].reshape(40,40),cmap=plt.get_cmap('gray'))"
   ]
  }
 ],
 "metadata": {
  "kernelspec": {
   "display_name": "Python 3",
   "language": "python",
   "name": "python3"
  },
  "language_info": {
   "codemirror_mode": {
    "name": "ipython",
    "version": 3
   },
   "file_extension": ".py",
   "mimetype": "text/x-python",
   "name": "python",
   "nbconvert_exporter": "python",
   "pygments_lexer": "ipython3",
   "version": "3.7.3"
  }
 },
 "nbformat": 4,
 "nbformat_minor": 4
}
